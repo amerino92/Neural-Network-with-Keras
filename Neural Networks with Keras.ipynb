{
 "cells": [
  {
   "cell_type": "markdown",
   "metadata": {},
   "source": [
    "#Introduction"
   ]
  },
  {
   "cell_type": "markdown",
   "metadata": {},
   "source": [
    "We have a series of tasks where we use deep learning to solve them all. These tasks are different from each other so we can apply different methods of the package keras (https://keras.io) to solve them in different ways."
   ]
  },
  {
   "cell_type": "markdown",
   "metadata": {},
   "source": []
  },
  {
   "cell_type": "markdown",
   "metadata": {},
   "source": [
    "##Task 1: We will run a multilayer perceptron on the iris dataset using the keras Sequential interface. We will include code of the models using GridSearchCV."
   ]
  },
  {
   "cell_type": "markdown",
   "metadata": {},
   "source": [
    "First, we need to initialize the tensorflow session to run faster the code we will make for this task."
   ]
  },
  {
   "cell_type": "code",
   "execution_count": 1,
   "metadata": {},
   "outputs": [],
   "source": [
    "import numpy as np\n",
    "import seaborn as sns\n",
    "import pandas as pd\n",
    "import matplotlib.pyplot as plt\n",
    "%matplotlib inline"
   ]
  },
  {
   "cell_type": "code",
   "execution_count": null,
   "metadata": {},
   "outputs": [],
   "source": []
  },
  {
   "cell_type": "code",
   "execution_count": 2,
   "metadata": {},
   "outputs": [
    {
     "name": "stderr",
     "output_type": "stream",
     "text": [
      "Using TensorFlow backend.\n"
     ]
    }
   ],
   "source": [
    "import tensorflow as tf\n",
    "from keras.backend.tensorflow_backend import set_session\n",
    "config = tf.ConfigProto()\n",
    "config.gpu_options.allow_growth = True  # dynamically grow the memory used on the GPU\n",
    "config.log_device_placement = True  # to log device placement (on which device the operation ran)\n",
    "                                    # (nothing gets printed in Jupyter, only if you run it standalone)\n",
    "sess = tf.Session(config=config)\n",
    "set_session(sess)  # set this TensorFlow session as the default session for Keras\n",
    "\n",
    "\n",
    "init = tf.global_variables_initializer()\n",
    "sess.run(init)\n"
   ]
  },
  {
   "cell_type": "markdown",
   "metadata": {},
   "source": [
    "Now, we will obtain some statistics data from our dataset to see how to manage it. Also, we will make use of some plots to see clarily how is related our data from each other."
   ]
  },
  {
   "cell_type": "code",
   "execution_count": 3,
   "metadata": {},
   "outputs": [
    {
     "data": {
      "text/html": [
       "<div>\n",
       "<style scoped>\n",
       "    .dataframe tbody tr th:only-of-type {\n",
       "        vertical-align: middle;\n",
       "    }\n",
       "\n",
       "    .dataframe tbody tr th {\n",
       "        vertical-align: top;\n",
       "    }\n",
       "\n",
       "    .dataframe thead th {\n",
       "        text-align: right;\n",
       "    }\n",
       "</style>\n",
       "<table border=\"1\" class=\"dataframe\">\n",
       "  <thead>\n",
       "    <tr style=\"text-align: right;\">\n",
       "      <th></th>\n",
       "      <th>sepal_length</th>\n",
       "      <th>sepal_width</th>\n",
       "      <th>petal_length</th>\n",
       "      <th>petal_width</th>\n",
       "      <th>species</th>\n",
       "    </tr>\n",
       "  </thead>\n",
       "  <tbody>\n",
       "    <tr>\n",
       "      <th>0</th>\n",
       "      <td>5.1</td>\n",
       "      <td>3.5</td>\n",
       "      <td>1.4</td>\n",
       "      <td>0.2</td>\n",
       "      <td>setosa</td>\n",
       "    </tr>\n",
       "    <tr>\n",
       "      <th>1</th>\n",
       "      <td>4.9</td>\n",
       "      <td>3.0</td>\n",
       "      <td>1.4</td>\n",
       "      <td>0.2</td>\n",
       "      <td>setosa</td>\n",
       "    </tr>\n",
       "    <tr>\n",
       "      <th>2</th>\n",
       "      <td>4.7</td>\n",
       "      <td>3.2</td>\n",
       "      <td>1.3</td>\n",
       "      <td>0.2</td>\n",
       "      <td>setosa</td>\n",
       "    </tr>\n",
       "    <tr>\n",
       "      <th>3</th>\n",
       "      <td>4.6</td>\n",
       "      <td>3.1</td>\n",
       "      <td>1.5</td>\n",
       "      <td>0.2</td>\n",
       "      <td>setosa</td>\n",
       "    </tr>\n",
       "    <tr>\n",
       "      <th>4</th>\n",
       "      <td>5.0</td>\n",
       "      <td>3.6</td>\n",
       "      <td>1.4</td>\n",
       "      <td>0.2</td>\n",
       "      <td>setosa</td>\n",
       "    </tr>\n",
       "  </tbody>\n",
       "</table>\n",
       "</div>"
      ],
      "text/plain": [
       "   sepal_length  sepal_width  petal_length  petal_width species\n",
       "0           5.1          3.5           1.4          0.2  setosa\n",
       "1           4.9          3.0           1.4          0.2  setosa\n",
       "2           4.7          3.2           1.3          0.2  setosa\n",
       "3           4.6          3.1           1.5          0.2  setosa\n",
       "4           5.0          3.6           1.4          0.2  setosa"
      ]
     },
     "execution_count": 3,
     "metadata": {},
     "output_type": "execute_result"
    }
   ],
   "source": [
    "iris = sns.load_dataset(\"iris\")\n",
    "iris.head()"
   ]
  },
  {
   "cell_type": "code",
   "execution_count": 4,
   "metadata": {},
   "outputs": [
    {
     "data": {
      "text/html": [
       "<div>\n",
       "<style scoped>\n",
       "    .dataframe tbody tr th:only-of-type {\n",
       "        vertical-align: middle;\n",
       "    }\n",
       "\n",
       "    .dataframe tbody tr th {\n",
       "        vertical-align: top;\n",
       "    }\n",
       "\n",
       "    .dataframe thead th {\n",
       "        text-align: right;\n",
       "    }\n",
       "</style>\n",
       "<table border=\"1\" class=\"dataframe\">\n",
       "  <thead>\n",
       "    <tr style=\"text-align: right;\">\n",
       "      <th></th>\n",
       "      <th>sepal_length</th>\n",
       "      <th>sepal_width</th>\n",
       "      <th>petal_length</th>\n",
       "      <th>petal_width</th>\n",
       "    </tr>\n",
       "  </thead>\n",
       "  <tbody>\n",
       "    <tr>\n",
       "      <th>count</th>\n",
       "      <td>150.000000</td>\n",
       "      <td>150.000000</td>\n",
       "      <td>150.000000</td>\n",
       "      <td>150.000000</td>\n",
       "    </tr>\n",
       "    <tr>\n",
       "      <th>mean</th>\n",
       "      <td>5.843333</td>\n",
       "      <td>3.057333</td>\n",
       "      <td>3.758000</td>\n",
       "      <td>1.199333</td>\n",
       "    </tr>\n",
       "    <tr>\n",
       "      <th>std</th>\n",
       "      <td>0.828066</td>\n",
       "      <td>0.435866</td>\n",
       "      <td>1.765298</td>\n",
       "      <td>0.762238</td>\n",
       "    </tr>\n",
       "    <tr>\n",
       "      <th>min</th>\n",
       "      <td>4.300000</td>\n",
       "      <td>2.000000</td>\n",
       "      <td>1.000000</td>\n",
       "      <td>0.100000</td>\n",
       "    </tr>\n",
       "    <tr>\n",
       "      <th>25%</th>\n",
       "      <td>5.100000</td>\n",
       "      <td>2.800000</td>\n",
       "      <td>1.600000</td>\n",
       "      <td>0.300000</td>\n",
       "    </tr>\n",
       "    <tr>\n",
       "      <th>50%</th>\n",
       "      <td>5.800000</td>\n",
       "      <td>3.000000</td>\n",
       "      <td>4.350000</td>\n",
       "      <td>1.300000</td>\n",
       "    </tr>\n",
       "    <tr>\n",
       "      <th>75%</th>\n",
       "      <td>6.400000</td>\n",
       "      <td>3.300000</td>\n",
       "      <td>5.100000</td>\n",
       "      <td>1.800000</td>\n",
       "    </tr>\n",
       "    <tr>\n",
       "      <th>max</th>\n",
       "      <td>7.900000</td>\n",
       "      <td>4.400000</td>\n",
       "      <td>6.900000</td>\n",
       "      <td>2.500000</td>\n",
       "    </tr>\n",
       "  </tbody>\n",
       "</table>\n",
       "</div>"
      ],
      "text/plain": [
       "       sepal_length  sepal_width  petal_length  petal_width\n",
       "count    150.000000   150.000000    150.000000   150.000000\n",
       "mean       5.843333     3.057333      3.758000     1.199333\n",
       "std        0.828066     0.435866      1.765298     0.762238\n",
       "min        4.300000     2.000000      1.000000     0.100000\n",
       "25%        5.100000     2.800000      1.600000     0.300000\n",
       "50%        5.800000     3.000000      4.350000     1.300000\n",
       "75%        6.400000     3.300000      5.100000     1.800000\n",
       "max        7.900000     4.400000      6.900000     2.500000"
      ]
     },
     "execution_count": 4,
     "metadata": {},
     "output_type": "execute_result"
    }
   ],
   "source": [
    "iris.describe()"
   ]
  },
  {
   "cell_type": "code",
   "execution_count": 5,
   "metadata": {},
   "outputs": [
    {
     "name": "stdout",
     "output_type": "stream",
     "text": [
      "{'setosa': 50, 'versicolor': 50, 'virginica': 50}\n"
     ]
    }
   ],
   "source": [
    "#how many elements are in species\n",
    "unique, counts = np.unique(iris['species'], return_counts=True)\n",
    "print(dict(zip(unique, counts)))"
   ]
  },
  {
   "cell_type": "code",
   "execution_count": 6,
   "metadata": {},
   "outputs": [
    {
     "data": {
      "image/png": "[encoded data removed]",
      "text/plain": [
       "<Figure size 432x288 with 1 Axes>"
      ]
     },
     "metadata": {
      "needs_background": "light"
     },
     "output_type": "display_data"
    },
    {
     "data": {
      "image/png": "[encoded data removed]",
      "text/plain": [
       "<Figure size 432x288 with 1 Axes>"
      ]
     },
     "metadata": {
      "needs_background": "light"
     },
     "output_type": "display_data"
    },
    {
     "data": {
      "image/png": "[encoded data removed]",
      "text/plain": [
       "<Figure size 432x288 with 1 Axes>"
      ]
     },
     "metadata": {
      "needs_background": "light"
     },
     "output_type": "display_data"
    },
    {
     "data": {
      "image/png": "[encoded data removed]",
      "text/plain": [
       "<Figure size 432x288 with 1 Axes>"
      ]
     },
     "metadata": {
      "needs_background": "light"
     },
     "output_type": "display_data"
    }
   ],
   "source": [
    "feat=['sepal_length','sepal_width','petal_length','petal_width']\n",
    "for i in feat:\n",
    "    iris.hist(column=i)"
   ]
  },
  {
   "cell_type": "code",
   "execution_count": 7,
   "metadata": {},
   "outputs": [
    {
     "data": {
      "image/png": "[encoded data removed]",
      "text/plain": [
       "<Figure size 804.75x720 with 20 Axes>"
      ]
     },
     "metadata": {
      "needs_background": "light"
     },
     "output_type": "display_data"
    }
   ],
   "source": [
    "\n",
    "sns.pairplot(iris, hue=\"species\",palette=\"bright\")\n",
    "plt.show()"
   ]
  },
  {
   "cell_type": "markdown",
   "metadata": {},
   "source": [
    "Now, we will split the data in X and y to develop our model. Then, we will see a graphic using TSNE algorithm to realize if the three classes can be easily splitted in different groups."
   ]
  },
  {
   "cell_type": "code",
   "execution_count": 8,
   "metadata": {},
   "outputs": [],
   "source": [
    "iris = iris.sample(frac=1).reset_index(drop=True)\n",
    "X= iris.iloc[:, 0:4].values\n"
   ]
  },
  {
   "cell_type": "code",
   "execution_count": 9,
   "metadata": {},
   "outputs": [
    {
     "data": {
      "text/plain": [
       "<matplotlib.axes._subplots.AxesSubplot at 0x2202ee43f98>"
      ]
     },
     "execution_count": 9,
     "metadata": {},
     "output_type": "execute_result"
    },
    {
     "data": {
      "image/png": "[encoded data removed]",
      "text/plain": [
       "<Figure size 432x288 with 1 Axes>"
      ]
     },
     "metadata": {
      "needs_background": "light"
     },
     "output_type": "display_data"
    }
   ],
   "source": [
    "from sklearn.manifold import TSNE\n",
    "\n",
    "tsne = TSNE(n_components=2, perplexity= 6)\n",
    "tsne_results = tsne.fit_transform(X)\n",
    "iris['x-tsne'] = tsne_results[:,0]\n",
    "iris['y-tsne'] = tsne_results[:,1]\n",
    "iris.plot('x-tsne','y-tsne',kind='scatter')"
   ]
  },
  {
   "cell_type": "code",
   "execution_count": 10,
   "metadata": {},
   "outputs": [],
   "source": [
    "# Encoded the column y\n",
    "iris['target'] = iris.species.astype('category').cat.codes\n",
    "y = iris['target'].values"
   ]
  },
  {
   "cell_type": "markdown",
   "metadata": {},
   "source": [
    "We need to split our data in training set and test set to have some data to test our model and see how good it is. Take in mind we will use a regularizer for our model, which allow to apply penalties on layer parameters or layer activity during optimization.  In our case, we will use bias_regularizer."
   ]
  },
  {
   "cell_type": "code",
   "execution_count": 11,
   "metadata": {},
   "outputs": [],
   "source": [
    "from sklearn.model_selection import train_test_split\n",
    "X_train, X_test, y_train, y_test = train_test_split(X, y, test_size=0.20)"
   ]
  },
  {
   "cell_type": "code",
   "execution_count": 12,
   "metadata": {},
   "outputs": [],
   "source": [
    "from keras.models import Sequential\n",
    "from keras.layers import Dense\n",
    "from keras import regularizers\n",
    "\n",
    "def make_model():\n",
    "    \n",
    "    model = Sequential()\n",
    "    model.add(Dense(12, input_dim=4, activation='relu')) # first hidden layer\n",
    "    \n",
    "    model.add(Dense(64, activation='relu',bias_regularizer=regularizers.l1_l2(l1=0.1, l2=0.1)))\n",
    "    model.add(Dense(32, activation='relu',bias_regularizer=regularizers.l1_l2(l1=0.1, l2=0.1)))\n",
    "    model.add(Dense(16, activation='relu',bias_regularizer=regularizers.l1_l2(l1=0.1, l2=0.1)))\n",
    "    model.add(Dense(3, activation='softmax')) \n",
    "    # Compile model\n",
    "    model.compile(loss='categorical_crossentropy', optimizer='adam', metrics=['accuracy'])\n",
    "    return model\n",
    " "
   ]
  },
  {
   "cell_type": "code",
   "execution_count": 13,
   "metadata": {},
   "outputs": [],
   "source": [
    "from sklearn.model_selection import StratifiedShuffleSplit\n",
    "from sklearn.model_selection import GridSearchCV\n",
    "\n",
    "cv = StratifiedShuffleSplit(n_splits=5, test_size=0.20, random_state=1)\n"
   ]
  },
  {
   "cell_type": "code",
   "execution_count": 14,
   "metadata": {},
   "outputs": [],
   "source": [
    "from keras.wrappers.scikit_learn import KerasClassifier\n",
    "\n",
    "\n",
    "batch_size = [80, 100]\n",
    "epochs = [10,50]\n",
    "param_grid = dict(batch_size=batch_size, nb_epoch=epochs)\n",
    "\n",
    "k_model = KerasClassifier(make_model)\n",
    "\n",
    "clf = GridSearchCV(estimator=k_model, param_grid=param_grid, \n",
    "                               cv=cv)\n"
   ]
  },
  {
   "cell_type": "code",
   "execution_count": 50,
   "metadata": {},
   "outputs": [
    {
     "name": "stdout",
     "output_type": "stream",
     "text": [
      "Epoch 1/1\n",
      "96/96 [==============================] - 210s 2s/step - loss: 1.2779 - acc: 0.3437\n",
      "24/24 [==============================] - 106s 4s/step\n",
      "96/96 [==============================] - 0s 42us/step\n",
      "Epoch 1/1\n",
      "96/96 [==============================] - 223s 2s/step - loss: 1.0978 - acc: 0.3438\n",
      "24/24 [==============================] - 110s 5s/step\n",
      "96/96 [==============================] - 0s 73us/step\n",
      "Epoch 1/1\n",
      "96/96 [==============================] - 224s 2s/step - loss: 1.3898 - acc: 0.3438\n",
      "24/24 [==============================] - 113s 5s/step\n",
      "96/96 [==============================] - 0s 83us/step\n",
      "Epoch 1/1\n",
      "96/96 [==============================] - 231s 2s/step - loss: 1.2419 - acc: 0.3125\n",
      "24/24 [==============================] - 117s 5s/step\n",
      "96/96 [==============================] - 0s 62us/step\n",
      "Epoch 1/1\n",
      "96/96 [==============================] - 241s 3s/step - loss: 1.0998 - acc: 0.3437\n",
      "24/24 [==============================] - 120s 5s/step\n",
      "96/96 [==============================] - 0s 83us/step\n",
      "Epoch 1/1\n",
      "96/96 [==============================] - 247s 3s/step - loss: 1.0810 - acc: 0.3438\n",
      "24/24 [==============================] - 125s 5s/step\n",
      "96/96 [==============================] - 0s 83us/step\n",
      "Epoch 1/1\n",
      "96/96 [==============================] - 255s 3s/step - loss: 1.0580 - acc: 0.4896\n",
      "24/24 [==============================] - 127s 5s/step\n",
      "96/96 [==============================] - 0s 83us/step\n",
      "Epoch 1/1\n",
      "96/96 [==============================] - 264s 3s/step - loss: 1.0837 - acc: 0.3438\n",
      "24/24 [==============================] - 130s 5s/step\n",
      "96/96 [==============================] - 0s 73us/step\n",
      "Epoch 1/1\n",
      "96/96 [==============================] - 250s 3s/step - loss: 1.0872 - acc: 0.3437\n",
      "24/24 [==============================] - 126s 5s/step\n",
      "96/96 [==============================] - 0s 73us/step\n",
      "Epoch 1/1\n",
      "96/96 [==============================] - 257s 3s/step - loss: 1.5043 - acc: 0.3125\n",
      "24/24 [==============================] - 130s 5s/step\n",
      "96/96 [==============================] - 0s 83us/step\n",
      "Epoch 1/1\n",
      "96/96 [==============================] - 259s 3s/step - loss: 1.1056 - acc: 0.4167\n",
      "24/24 [==============================] - 126s 5s/step\n",
      "96/96 [==============================] - 0s 42us/step\n",
      "Epoch 1/1\n",
      "96/96 [==============================] - 550s 6s/step - loss: 1.0866 - acc: 0.3438\n",
      "24/24 [==============================] - 503s 21s/step\n",
      "96/96 [==============================] - 0s 109us/step\n",
      "Epoch 1/1\n",
      "96/96 [==============================] - 1028s 11s/step - loss: 1.1767 - acc: 0.3438\n",
      "24/24 [==============================] - 502s 21s/step\n",
      "96/96 [==============================] - 0s 90us/step\n",
      "Epoch 1/1\n",
      "96/96 [==============================] - 1044s 11s/step - loss: 1.1294 - acc: 0.5000\n",
      "24/24 [==============================] - 479s 20s/step\n",
      "96/96 [==============================] - 0s 77us/step\n",
      "Epoch 1/1\n",
      "96/96 [==============================] - 484s 5s/step - loss: 1.1202 - acc: 0.3125\n",
      "24/24 [==============================] - 135s 6s/step\n",
      "96/96 [==============================] - 0s 42us/step\n",
      "Epoch 1/1\n",
      "96/96 [==============================] - 278s 3s/step - loss: 1.1810 - acc: 0.3125\n",
      "24/24 [==============================] - 139s 6s/step\n",
      "96/96 [==============================] - 0s 42us/step\n",
      "Epoch 1/1\n",
      "96/96 [==============================] - 303s 3s/step - loss: 1.1392 - acc: 0.3438\n",
      "24/24 [==============================] - 150s 6s/step\n",
      "96/96 [==============================] - 0s 52us/step\n",
      "Epoch 1/1\n",
      "96/96 [==============================] - 284s 3s/step - loss: 1.0530 - acc: 0.3438\n",
      "24/24 [==============================] - 142s 6s/step\n",
      "96/96 [==============================] - 0s 31us/step\n",
      "Epoch 1/1\n",
      "96/96 [==============================] - 1183s 12s/step - loss: 1.0993 - acc: 0.3125\n",
      "24/24 [==============================] - 157s 7s/step\n",
      "96/96 [==============================] - 0s 31us/step\n",
      "Epoch 1/1\n",
      "96/96 [==============================] - 320s 3s/step - loss: 1.1245 - acc: 0.3125\n",
      "24/24 [==============================] - 150s 6s/step\n",
      "96/96 [==============================] - 0s 41us/step\n",
      "Epoch 1/1\n",
      "120/120 [==============================] - 315s 3s/step - loss: 1.1030 - acc: 0.3417\n"
     ]
    }
   ],
   "source": [
    "# Fit the model\n",
    "clf_fitted=clf.fit(X_train, y_train)"
   ]
  },
  {
   "cell_type": "code",
   "execution_count": 51,
   "metadata": {},
   "outputs": [
    {
     "name": "stdout",
     "output_type": "stream",
     "text": [
      "The best parameters are {'batch_size': 100, 'nb_epoch': 50} with a score of 0.43\n"
     ]
    }
   ],
   "source": [
    "print(\"The best parameters are %s with a score of %0.2f\"\n",
    "      % (clf_fitted.best_params_, clf_fitted.best_score_))"
   ]
  },
  {
   "cell_type": "markdown",
   "metadata": {},
   "source": [
    "We obtain not a good model, with a 0.43 of accuracy. This is because we only possess a data of 150 rows, not so much, so we can't do a better model."
   ]
  },
  {
   "cell_type": "code",
   "execution_count": 53,
   "metadata": {},
   "outputs": [
    {
     "data": {
      "text/plain": [
       "array([[ 0,  0,  9],\n",
       "       [ 0,  0, 12],\n",
       "       [ 0,  0,  9]], dtype=int64)"
      ]
     },
     "execution_count": 53,
     "metadata": {},
     "output_type": "execute_result"
    }
   ],
   "source": [
    "from sklearn.metrics import confusion_matrix\n",
    "pred = clf_fitted.predict(X_test)\n",
    "confusion_matrix(y_test, pred)"
   ]
  },
  {
   "cell_type": "code",
   "execution_count": 55,
   "metadata": {},
   "outputs": [
    {
     "data": {
      "text/plain": [
       "0.3"
      ]
     },
     "execution_count": 55,
     "metadata": {},
     "output_type": "execute_result"
    }
   ],
   "source": [
    "from sklearn.metrics import accuracy_score\n",
    "accuracy_score(y_test, pred)"
   ]
  },
  {
   "cell_type": "markdown",
   "metadata": {},
   "source": [
    "Even using the test dataset, we obtain an accuracy of 0.3. One method to improve the accuracy of our model is to use Bootstrap. In our case, we are going to use AdaBoostClassifier."
   ]
  },
  {
   "cell_type": "code",
   "execution_count": 13,
   "metadata": {},
   "outputs": [
    {
     "name": "stdout",
     "output_type": "stream",
     "text": [
      "WARNING:tensorflow:From C:\\Users\\alex_\\Anaconda3\\envs\\tf-gpu\\lib\\site-packages\\tensorflow\\python\\framework\\op_def_library.py:263: colocate_with (from tensorflow.python.framework.ops) is deprecated and will be removed in a future version.\n",
      "Instructions for updating:\n",
      "Colocations handled automatically by placer.\n",
      "WARNING:tensorflow:From C:\\Users\\alex_\\Anaconda3\\envs\\tf-gpu\\lib\\site-packages\\tensorflow\\python\\ops\\math_ops.py:3066: to_int32 (from tensorflow.python.ops.math_ops) is deprecated and will be removed in a future version.\n",
      "Instructions for updating:\n",
      "Use tf.cast instead.\n",
      "Epoch 1/50\n",
      "120/120 [==============================] - 10s 83ms/step - loss: 0.0103 - acc: 0.4083\n",
      "Epoch 2/50\n",
      "120/120 [==============================] - 0s 83us/step - loss: 0.0110 - acc: 0.6167\n",
      "Epoch 3/50\n",
      "120/120 [==============================] - 0s 83us/step - loss: 0.0145 - acc: 0.3417\n",
      "Epoch 4/50\n",
      "120/120 [==============================] - 0s 66us/step - loss: 0.0115 - acc: 0.3667\n",
      "Epoch 5/50\n",
      "120/120 [==============================] - 0s 83us/step - loss: 0.0116 - acc: 0.3667\n",
      "Epoch 6/50\n",
      "120/120 [==============================] - 0s 83us/step - loss: 0.0123 - acc: 0.3750\n",
      "Epoch 7/50\n",
      "120/120 [==============================] - 0s 75us/step - loss: 0.0116 - acc: 0.3583\n",
      "Epoch 8/50\n",
      "120/120 [==============================] - 0s 75us/step - loss: 0.0099 - acc: 0.3833\n",
      "Epoch 9/50\n",
      "120/120 [==============================] - 0s 74us/step - loss: 0.0110 - acc: 0.3667\n",
      "Epoch 10/50\n",
      "120/120 [==============================] - 0s 83us/step - loss: 0.0098 - acc: 0.3583\n",
      "Epoch 11/50\n",
      "120/120 [==============================] - 0s 116us/step - loss: 0.0101 - acc: 0.3667\n",
      "Epoch 12/50\n",
      "120/120 [==============================] - 0s 83us/step - loss: 0.0097 - acc: 0.3750\n",
      "Epoch 13/50\n",
      "120/120 [==============================] - 0s 83us/step - loss: 0.0101 - acc: 0.4167\n",
      "Epoch 14/50\n",
      "120/120 [==============================] - 0s 83us/step - loss: 0.0094 - acc: 0.4333\n",
      "Epoch 15/50\n",
      "120/120 [==============================] - 0s 75us/step - loss: 0.0102 - acc: 0.3917\n",
      "Epoch 16/50\n",
      "120/120 [==============================] - 0s 83us/step - loss: 0.0094 - acc: 0.3750\n",
      "Epoch 17/50\n",
      "120/120 [==============================] - 0s 83us/step - loss: 0.0097 - acc: 0.3833\n",
      "Epoch 18/50\n",
      "120/120 [==============================] - 0s 75us/step - loss: 0.0093 - acc: 0.3667\n",
      "Epoch 19/50\n",
      "120/120 [==============================] - 0s 75us/step - loss: 0.0098 - acc: 0.3667\n",
      "Epoch 20/50\n",
      "120/120 [==============================] - 0s 66us/step - loss: 0.0092 - acc: 0.3500\n",
      "Epoch 21/50\n",
      "120/120 [==============================] - 0s 100us/step - loss: 0.0095 - acc: 0.3417\n",
      "Epoch 22/50\n",
      "120/120 [==============================] - 0s 66us/step - loss: 0.0088 - acc: 0.3500\n",
      "Epoch 23/50\n",
      "120/120 [==============================] - 0s 66us/step - loss: 0.0093 - acc: 0.3583\n",
      "Epoch 24/50\n",
      "120/120 [==============================] - 0s 75us/step - loss: 0.0090 - acc: 0.5167\n",
      "Epoch 25/50\n",
      "120/120 [==============================] - 0s 66us/step - loss: 0.0089 - acc: 0.6750\n",
      "Epoch 26/50\n",
      "120/120 [==============================] - 0s 83us/step - loss: 0.0086 - acc: 0.6833\n",
      "Epoch 27/50\n",
      "120/120 [==============================] - 0s 83us/step - loss: 0.0090 - acc: 0.6917\n",
      "Epoch 28/50\n",
      "120/120 [==============================] - 0s 83us/step - loss: 0.0085 - acc: 0.6917\n",
      "Epoch 29/50\n",
      "120/120 [==============================] - 0s 83us/step - loss: 0.0085 - acc: 0.6917\n",
      "Epoch 30/50\n",
      "120/120 [==============================] - 0s 66us/step - loss: 0.0083 - acc: 0.6917\n",
      "Epoch 31/50\n",
      "120/120 [==============================] - 0s 66us/step - loss: 0.0085 - acc: 0.6917\n",
      "Epoch 32/50\n",
      "120/120 [==============================] - 0s 66us/step - loss: 0.0079 - acc: 0.6917\n",
      "Epoch 33/50\n",
      "120/120 [==============================] - 0s 66us/step - loss: 0.0081 - acc: 0.6917\n",
      "Epoch 34/50\n",
      "120/120 [==============================] - 0s 75us/step - loss: 0.0075 - acc: 0.6917\n",
      "Epoch 35/50\n",
      "120/120 [==============================] - 0s 66us/step - loss: 0.0078 - acc: 0.6917\n",
      "Epoch 36/50\n",
      "120/120 [==============================] - 0s 66us/step - loss: 0.0074 - acc: 0.7000\n",
      "Epoch 37/50\n",
      "120/120 [==============================] - 0s 75us/step - loss: 0.0072 - acc: 0.7000\n",
      "Epoch 38/50\n",
      "120/120 [==============================] - 0s 66us/step - loss: 0.0068 - acc: 0.7083\n",
      "Epoch 39/50\n",
      "120/120 [==============================] - 0s 66us/step - loss: 0.0070 - acc: 0.7083\n",
      "Epoch 40/50\n",
      "120/120 [==============================] - 0s 66us/step - loss: 0.0063 - acc: 0.7083\n",
      "Epoch 41/50\n",
      "120/120 [==============================] - 0s 66us/step - loss: 0.0064 - acc: 0.7000\n",
      "Epoch 42/50\n",
      "120/120 [==============================] - 0s 75us/step - loss: 0.0061 - acc: 0.6917\n",
      "Epoch 43/50\n",
      "120/120 [==============================] - 0s 66us/step - loss: 0.0061 - acc: 0.6917\n",
      "Epoch 44/50\n",
      "120/120 [==============================] - 0s 66us/step - loss: 0.0057 - acc: 0.7083\n",
      "Epoch 45/50\n",
      "120/120 [==============================] - 0s 66us/step - loss: 0.0059 - acc: 0.7333\n",
      "Epoch 46/50\n",
      "120/120 [==============================] - 0s 66us/step - loss: 0.0053 - acc: 0.7667\n",
      "Epoch 47/50\n",
      "120/120 [==============================] - 0s 83us/step - loss: 0.0054 - acc: 0.7917\n",
      "Epoch 48/50\n",
      "120/120 [==============================] - 0s 83us/step - loss: 0.0051 - acc: 0.8083\n",
      "Epoch 49/50\n",
      "120/120 [==============================] - 0s 133us/step - loss: 0.0052 - acc: 0.8333\n",
      "Epoch 50/50\n",
      "120/120 [==============================] - 0s 66us/step - loss: 0.0047 - acc: 0.8417\n",
      "Epoch 1/50\n",
      "120/120 [==============================] - 13s 107ms/step - loss: 0.0129 - acc: 0.3333\n",
      "Epoch 2/50\n",
      "120/120 [==============================] - 0s 91us/step - loss: 0.0131 - acc: 0.3333\n",
      "Epoch 3/50\n",
      "120/120 [==============================] - 0s 75us/step - loss: 0.0162 - acc: 0.3333\n",
      "Epoch 4/50\n",
      "120/120 [==============================] - 0s 125us/step - loss: 0.0126 - acc: 0.3333\n",
      "Epoch 5/50\n",
      "120/120 [==============================] - 0s 83us/step - loss: 0.0118 - acc: 0.3333\n",
      "Epoch 6/50\n",
      "120/120 [==============================] - 0s 83us/step - loss: 0.0113 - acc: 0.3333\n",
      "Epoch 7/50\n",
      "120/120 [==============================] - 0s 83us/step - loss: 0.0115 - acc: 0.3333\n",
      "Epoch 8/50\n",
      "120/120 [==============================] - 0s 83us/step - loss: 0.0096 - acc: 0.4833\n",
      "Epoch 9/50\n",
      "120/120 [==============================] - 0s 91us/step - loss: 0.0102 - acc: 0.3500\n",
      "Epoch 10/50\n",
      "120/120 [==============================] - 0s 100us/step - loss: 0.0090 - acc: 0.3417\n",
      "Epoch 11/50\n",
      "120/120 [==============================] - 0s 125us/step - loss: 0.0094 - acc: 0.3750\n",
      "Epoch 12/50\n",
      "120/120 [==============================] - 0s 83us/step - loss: 0.0086 - acc: 0.5667\n",
      "Epoch 13/50\n",
      "120/120 [==============================] - 0s 83us/step - loss: 0.0089 - acc: 0.6250\n",
      "Epoch 14/50\n",
      "120/120 [==============================] - 0s 75us/step - loss: 0.0082 - acc: 0.5583\n",
      "Epoch 15/50\n",
      "120/120 [==============================] - 0s 91us/step - loss: 0.0089 - acc: 0.4750\n",
      "Epoch 16/50\n",
      "120/120 [==============================] - 0s 91us/step - loss: 0.0081 - acc: 0.3917\n",
      "Epoch 17/50\n",
      "120/120 [==============================] - 0s 91us/step - loss: 0.0084 - acc: 0.3417\n",
      "Epoch 18/50\n",
      "120/120 [==============================] - 0s 83us/step - loss: 0.0078 - acc: 0.3583\n",
      "Epoch 19/50\n",
      "120/120 [==============================] - 0s 83us/step - loss: 0.0084 - acc: 0.3917\n",
      "Epoch 20/50\n",
      "120/120 [==============================] - 0s 83us/step - loss: 0.0076 - acc: 0.4833\n",
      "Epoch 21/50\n",
      "120/120 [==============================] - 0s 91us/step - loss: 0.0078 - acc: 0.6083\n",
      "Epoch 22/50\n",
      "120/120 [==============================] - 0s 91us/step - loss: 0.0070 - acc: 0.6500\n",
      "Epoch 23/50\n",
      "120/120 [==============================] - 0s 91us/step - loss: 0.0077 - acc: 0.6750\n",
      "Epoch 24/50\n",
      "120/120 [==============================] - 0s 83us/step - loss: 0.0070 - acc: 0.6083\n",
      "Epoch 25/50\n",
      "120/120 [==============================] - 0s 108us/step - loss: 0.0071 - acc: 0.5833\n",
      "Epoch 26/50\n",
      "120/120 [==============================] - 0s 100us/step - loss: 0.0065 - acc: 0.6500\n",
      "Epoch 27/50\n",
      "120/120 [==============================] - 0s 83us/step - loss: 0.0071 - acc: 0.7583\n",
      "Epoch 28/50\n",
      "120/120 [==============================] - 0s 83us/step - loss: 0.0062 - acc: 0.9000\n",
      "Epoch 29/50\n"
     ]
    },
    {
     "name": "stdout",
     "output_type": "stream",
     "text": [
      "120/120 [==============================] - 0s 75us/step - loss: 0.0064 - acc: 0.9667\n",
      "Epoch 30/50\n",
      "120/120 [==============================] - 0s 83us/step - loss: 0.0059 - acc: 0.9333\n",
      "Epoch 31/50\n",
      "120/120 [==============================] - 0s 91us/step - loss: 0.0064 - acc: 0.8833\n",
      "Epoch 32/50\n",
      "120/120 [==============================] - 0s 83us/step - loss: 0.0057 - acc: 0.8833\n",
      "Epoch 33/50\n",
      "120/120 [==============================] - 0s 83us/step - loss: 0.0059 - acc: 0.9250\n",
      "Epoch 34/50\n",
      "120/120 [==============================] - 0s 83us/step - loss: 0.0052 - acc: 0.9667\n",
      "Epoch 35/50\n",
      "120/120 [==============================] - 0s 75us/step - loss: 0.0057 - acc: 0.9667\n",
      "Epoch 36/50\n",
      "120/120 [==============================] - 0s 91us/step - loss: 0.0052 - acc: 0.9250\n",
      "Epoch 37/50\n",
      "120/120 [==============================] - 0s 83us/step - loss: 0.0052 - acc: 0.9167\n",
      "Epoch 38/50\n",
      "120/120 [==============================] - 0s 91us/step - loss: 0.0047 - acc: 0.9500\n",
      "Epoch 39/50\n",
      "120/120 [==============================] - 0s 108us/step - loss: 0.0052 - acc: 0.9750\n",
      "Epoch 40/50\n",
      "120/120 [==============================] - 0s 116us/step - loss: 0.0046 - acc: 0.9667\n",
      "Epoch 41/50\n",
      "120/120 [==============================] - 0s 91us/step - loss: 0.0048 - acc: 0.9583\n",
      "Epoch 42/50\n",
      "120/120 [==============================] - 0s 91us/step - loss: 0.0042 - acc: 0.9667\n",
      "Epoch 43/50\n",
      "120/120 [==============================] - 0s 75us/step - loss: 0.0046 - acc: 0.9833\n",
      "Epoch 44/50\n",
      "120/120 [==============================] - 0s 83us/step - loss: 0.0041 - acc: 0.9417\n",
      "Epoch 45/50\n",
      "120/120 [==============================] - 0s 83us/step - loss: 0.0042 - acc: 0.9667\n",
      "Epoch 46/50\n",
      "120/120 [==============================] - 0s 83us/step - loss: 0.0036 - acc: 0.9750\n",
      "Epoch 47/50\n",
      "120/120 [==============================] - 0s 91us/step - loss: 0.0041 - acc: 0.9667\n",
      "Epoch 48/50\n",
      "120/120 [==============================] - 0s 83us/step - loss: 0.0037 - acc: 0.9667\n",
      "Epoch 49/50\n",
      "120/120 [==============================] - 0s 83us/step - loss: 0.0036 - acc: 0.9833\n",
      "Epoch 50/50\n",
      "120/120 [==============================] - 0s 91us/step - loss: 0.0033 - acc: 0.9500\n",
      "Epoch 1/50\n",
      "120/120 [==============================] - 14s 121ms/step - loss: 0.0157 - acc: 0.3250\n",
      "Epoch 2/50\n",
      "120/120 [==============================] - 0s 83us/step - loss: 0.0147 - acc: 0.4000\n",
      "Epoch 3/50\n",
      "120/120 [==============================] - 0s 91us/step - loss: 0.0165 - acc: 0.6083\n",
      "Epoch 4/50\n",
      "120/120 [==============================] - 0s 100us/step - loss: 0.0126 - acc: 0.3417\n",
      "Epoch 5/50\n",
      "120/120 [==============================] - 0s 83us/step - loss: 0.0115 - acc: 0.3417\n",
      "Epoch 6/50\n",
      "120/120 [==============================] - 0s 83us/step - loss: 0.0104 - acc: 0.3417\n",
      "Epoch 7/50\n",
      "120/120 [==============================] - 0s 100us/step - loss: 0.0114 - acc: 0.3417\n",
      "Epoch 8/50\n",
      "120/120 [==============================] - 0s 91us/step - loss: 0.0099 - acc: 0.3417\n",
      "Epoch 9/50\n",
      "120/120 [==============================] - 0s 100us/step - loss: 0.0103 - acc: 0.3417\n",
      "Epoch 10/50\n",
      "120/120 [==============================] - 0s 91us/step - loss: 0.0093 - acc: 0.3417\n",
      "Epoch 11/50\n",
      "120/120 [==============================] - 0s 100us/step - loss: 0.0100 - acc: 0.3417\n",
      "Epoch 12/50\n",
      "120/120 [==============================] - 0s 91us/step - loss: 0.0092 - acc: 0.3417\n",
      "Epoch 13/50\n",
      "120/120 [==============================] - 0s 83us/step - loss: 0.0096 - acc: 0.3417\n",
      "Epoch 14/50\n",
      "120/120 [==============================] - 0s 91us/step - loss: 0.0089 - acc: 0.3417\n",
      "Epoch 15/50\n",
      "120/120 [==============================] - 0s 116us/step - loss: 0.0094 - acc: 0.3500\n",
      "Epoch 16/50\n",
      "120/120 [==============================] - 0s 100us/step - loss: 0.0088 - acc: 0.3833\n",
      "Epoch 17/50\n",
      "120/120 [==============================] - 0s 83us/step - loss: 0.0092 - acc: 0.5833\n",
      "Epoch 18/50\n",
      "120/120 [==============================] - 0s 75us/step - loss: 0.0086 - acc: 0.6500\n",
      "Epoch 19/50\n",
      "120/120 [==============================] - 0s 91us/step - loss: 0.0090 - acc: 0.6083\n",
      "Epoch 20/50\n",
      "120/120 [==============================] - 0s 91us/step - loss: 0.0084 - acc: 0.5833\n",
      "Epoch 21/50\n",
      "120/120 [==============================] - 0s 91us/step - loss: 0.0089 - acc: 0.5917\n",
      "Epoch 22/50\n",
      "120/120 [==============================] - 0s 100us/step - loss: 0.0082 - acc: 0.6417\n",
      "Epoch 23/50\n",
      "120/120 [==============================] - 0s 91us/step - loss: 0.0087 - acc: 0.6250\n",
      "Epoch 24/50\n",
      "120/120 [==============================] - 0s 75us/step - loss: 0.0081 - acc: 0.4667\n",
      "Epoch 25/50\n",
      "120/120 [==============================] - 0s 75us/step - loss: 0.0085 - acc: 0.3583\n",
      "Epoch 26/50\n",
      "120/120 [==============================] - 0s 75us/step - loss: 0.0079 - acc: 0.3417\n",
      "Epoch 27/50\n",
      "120/120 [==============================] - 0s 75us/step - loss: 0.0084 - acc: 0.3417\n",
      "Epoch 28/50\n",
      "120/120 [==============================] - 0s 75us/step - loss: 0.0078 - acc: 0.3750\n",
      "Epoch 29/50\n",
      "120/120 [==============================] - 0s 75us/step - loss: 0.0081 - acc: 0.5583\n",
      "Epoch 30/50\n",
      "120/120 [==============================] - 0s 66us/step - loss: 0.0078 - acc: 0.6417\n",
      "Epoch 31/50\n",
      "120/120 [==============================] - 0s 75us/step - loss: 0.0081 - acc: 0.6500\n",
      "Epoch 32/50\n",
      "120/120 [==============================] - 0s 66us/step - loss: 0.0076 - acc: 0.6583\n",
      "Epoch 33/50\n",
      "120/120 [==============================] - 0s 75us/step - loss: 0.0079 - acc: 0.6500\n",
      "Epoch 34/50\n",
      "120/120 [==============================] - 0s 66us/step - loss: 0.0074 - acc: 0.6500\n",
      "Epoch 35/50\n",
      "120/120 [==============================] - 0s 66us/step - loss: 0.0078 - acc: 0.6500\n",
      "Epoch 36/50\n",
      "120/120 [==============================] - 0s 75us/step - loss: 0.0073 - acc: 0.6500\n",
      "Epoch 37/50\n",
      "120/120 [==============================] - 0s 66us/step - loss: 0.0076 - acc: 0.6417\n",
      "Epoch 38/50\n",
      "120/120 [==============================] - 0s 75us/step - loss: 0.0072 - acc: 0.6000\n",
      "Epoch 39/50\n",
      "120/120 [==============================] - 0s 75us/step - loss: 0.0075 - acc: 0.6167\n",
      "Epoch 40/50\n",
      "120/120 [==============================] - 0s 83us/step - loss: 0.0070 - acc: 0.7500\n",
      "Epoch 41/50\n",
      "120/120 [==============================] - 0s 66us/step - loss: 0.0074 - acc: 0.8833\n",
      "Epoch 42/50\n",
      "120/120 [==============================] - 0s 75us/step - loss: 0.0069 - acc: 0.9167\n",
      "Epoch 43/50\n",
      "120/120 [==============================] - 0s 75us/step - loss: 0.0072 - acc: 0.8667\n",
      "Epoch 44/50\n",
      "120/120 [==============================] - 0s 75us/step - loss: 0.0068 - acc: 0.8083\n",
      "Epoch 45/50\n",
      "120/120 [==============================] - 0s 75us/step - loss: 0.0071 - acc: 0.8917\n",
      "Epoch 46/50\n",
      "120/120 [==============================] - 0s 75us/step - loss: 0.0065 - acc: 0.9750\n",
      "Epoch 47/50\n",
      "120/120 [==============================] - 0s 75us/step - loss: 0.0069 - acc: 0.9750\n",
      "Epoch 48/50\n",
      "120/120 [==============================] - 0s 75us/step - loss: 0.0063 - acc: 0.9750\n",
      "Epoch 49/50\n",
      "120/120 [==============================] - 0s 66us/step - loss: 0.0067 - acc: 0.9750\n",
      "Epoch 50/50\n",
      "120/120 [==============================] - 0s 83us/step - loss: 0.0062 - acc: 0.9750\n",
      "Epoch 1/50\n",
      "120/120 [==============================] - 21s 172ms/step - loss: 0.0108 - acc: 0.3417\n",
      "Epoch 2/50\n",
      "120/120 [==============================] - 0s 75us/step - loss: 0.0111 - acc: 0.3417\n",
      "Epoch 3/50\n",
      "120/120 [==============================] - 0s 91us/step - loss: 0.0142 - acc: 0.2917\n",
      "Epoch 4/50\n",
      "120/120 [==============================] - 0s 100us/step - loss: 0.0105 - acc: 0.4000\n",
      "Epoch 5/50\n",
      "120/120 [==============================] - 0s 83us/step - loss: 0.0097 - acc: 0.6333\n",
      "Epoch 6/50\n",
      "120/120 [==============================] - 0s 83us/step - loss: 0.0091 - acc: 0.6583\n",
      "Epoch 7/50\n",
      "120/120 [==============================] - 0s 91us/step - loss: 0.0095 - acc: 0.6667\n",
      "Epoch 8/50\n",
      "120/120 [==============================] - 0s 75us/step - loss: 0.0077 - acc: 0.7333\n",
      "Epoch 9/50\n",
      "120/120 [==============================] - 0s 83us/step - loss: 0.0083 - acc: 0.8750\n",
      "Epoch 10/50\n",
      "120/120 [==============================] - 0s 83us/step - loss: 0.0071 - acc: 0.9083\n",
      "Epoch 11/50\n",
      "120/120 [==============================] - 0s 75us/step - loss: 0.0077 - acc: 0.9500\n",
      "Epoch 12/50\n",
      "120/120 [==============================] - 0s 83us/step - loss: 0.0067 - acc: 0.9500\n",
      "Epoch 13/50\n"
     ]
    },
    {
     "name": "stdout",
     "output_type": "stream",
     "text": [
      "120/120 [==============================] - 0s 83us/step - loss: 0.0072 - acc: 0.9500\n",
      "Epoch 14/50\n",
      "120/120 [==============================] - 0s 83us/step - loss: 0.0062 - acc: 0.9500\n",
      "Epoch 15/50\n",
      "120/120 [==============================] - 0s 75us/step - loss: 0.0069 - acc: 0.9333\n",
      "Epoch 16/50\n",
      "120/120 [==============================] - 0s 108us/step - loss: 0.0058 - acc: 0.9417\n",
      "Epoch 17/50\n",
      "120/120 [==============================] - 0s 91us/step - loss: 0.0063 - acc: 0.9167\n",
      "Epoch 18/50\n",
      "120/120 [==============================] - 0s 75us/step - loss: 0.0055 - acc: 0.9417\n",
      "Epoch 19/50\n",
      "120/120 [==============================] - 0s 91us/step - loss: 0.0060 - acc: 0.9500\n",
      "Epoch 20/50\n",
      "120/120 [==============================] - 0s 75us/step - loss: 0.0052 - acc: 0.9500\n",
      "Epoch 21/50\n",
      "120/120 [==============================] - 0s 83us/step - loss: 0.0056 - acc: 0.9083\n",
      "Epoch 22/50\n",
      "120/120 [==============================] - 0s 83us/step - loss: 0.0048 - acc: 0.8917\n",
      "Epoch 23/50\n",
      "120/120 [==============================] - 0s 83us/step - loss: 0.0054 - acc: 0.8750\n",
      "Epoch 24/50\n",
      "120/120 [==============================] - 0s 83us/step - loss: 0.0048 - acc: 0.9000\n",
      "Epoch 25/50\n",
      "120/120 [==============================] - 0s 83us/step - loss: 0.0050 - acc: 0.9167\n",
      "Epoch 26/50\n",
      "120/120 [==============================] - 0s 100us/step - loss: 0.0045 - acc: 0.9500\n",
      "Epoch 27/50\n",
      "120/120 [==============================] - 0s 83us/step - loss: 0.0049 - acc: 0.9500\n",
      "Epoch 28/50\n",
      "120/120 [==============================] - 0s 75us/step - loss: 0.0044 - acc: 0.9583\n",
      "Epoch 29/50\n",
      "120/120 [==============================] - 0s 83us/step - loss: 0.0046 - acc: 0.9583\n",
      "Epoch 30/50\n",
      "120/120 [==============================] - 0s 83us/step - loss: 0.0041 - acc: 0.9500\n",
      "Epoch 31/50\n",
      "120/120 [==============================] - 0s 75us/step - loss: 0.0045 - acc: 0.9000\n",
      "Epoch 32/50\n",
      "120/120 [==============================] - 0s 66us/step - loss: 0.0041 - acc: 0.8500\n",
      "Epoch 33/50\n",
      "120/120 [==============================] - 0s 75us/step - loss: 0.0045 - acc: 0.8833\n",
      "Epoch 34/50\n",
      "120/120 [==============================] - 0s 66us/step - loss: 0.0038 - acc: 0.9083\n",
      "Epoch 35/50\n",
      "120/120 [==============================] - 0s 66us/step - loss: 0.0042 - acc: 0.9500\n",
      "Epoch 36/50\n",
      "120/120 [==============================] - 0s 75us/step - loss: 0.0037 - acc: 0.9500\n",
      "Epoch 37/50\n",
      "120/120 [==============================] - 0s 75us/step - loss: 0.0040 - acc: 0.9500\n",
      "Epoch 38/50\n",
      "120/120 [==============================] - 0s 75us/step - loss: 0.0035 - acc: 0.9500\n",
      "Epoch 39/50\n",
      "120/120 [==============================] - 0s 75us/step - loss: 0.0040 - acc: 0.9500\n",
      "Epoch 40/50\n",
      "120/120 [==============================] - 0s 75us/step - loss: 0.0034 - acc: 0.9583\n",
      "Epoch 41/50\n",
      "120/120 [==============================] - 0s 75us/step - loss: 0.0038 - acc: 0.9583\n",
      "Epoch 42/50\n",
      "120/120 [==============================] - 0s 75us/step - loss: 0.0033 - acc: 0.9500\n",
      "Epoch 43/50\n",
      "120/120 [==============================] - 0s 66us/step - loss: 0.0037 - acc: 0.9417\n",
      "Epoch 44/50\n",
      "120/120 [==============================] - 0s 66us/step - loss: 0.0032 - acc: 0.9667\n",
      "Epoch 45/50\n",
      "120/120 [==============================] - 0s 75us/step - loss: 0.0036 - acc: 0.9583\n",
      "Epoch 46/50\n",
      "120/120 [==============================] - 0s 75us/step - loss: 0.0030 - acc: 0.9500\n",
      "Epoch 47/50\n",
      "120/120 [==============================] - 0s 75us/step - loss: 0.0035 - acc: 0.9500\n",
      "Epoch 48/50\n",
      "120/120 [==============================] - 0s 75us/step - loss: 0.0030 - acc: 0.9500\n",
      "Epoch 49/50\n",
      "120/120 [==============================] - 0s 75us/step - loss: 0.0033 - acc: 0.9500\n",
      "Epoch 50/50\n",
      "120/120 [==============================] - 0s 75us/step - loss: 0.0029 - acc: 0.9750\n",
      "Epoch 1/50\n",
      "120/120 [==============================] - 27s 222ms/step - loss: 0.0105 - acc: 0.6667\n",
      "Epoch 2/50\n",
      "120/120 [==============================] - 0s 75us/step - loss: 0.0110 - acc: 0.7000\n",
      "Epoch 3/50\n",
      "120/120 [==============================] - 0s 75us/step - loss: 0.0137 - acc: 0.6667\n",
      "Epoch 4/50\n",
      "120/120 [==============================] - 0s 83us/step - loss: 0.0108 - acc: 0.6583\n",
      "Epoch 5/50\n",
      "120/120 [==============================] - 0s 91us/step - loss: 0.0103 - acc: 0.6500\n",
      "Epoch 6/50\n",
      "120/120 [==============================] - 0s 83us/step - loss: 0.0097 - acc: 0.3917\n",
      "Epoch 7/50\n",
      "120/120 [==============================] - 0s 75us/step - loss: 0.0100 - acc: 0.3333\n",
      "Epoch 8/50\n",
      "120/120 [==============================] - 0s 83us/step - loss: 0.0085 - acc: 0.3333\n",
      "Epoch 9/50\n",
      "120/120 [==============================] - 0s 75us/step - loss: 0.0090 - acc: 0.3333\n",
      "Epoch 10/50\n",
      "120/120 [==============================] - 0s 75us/step - loss: 0.0079 - acc: 0.3333\n",
      "Epoch 11/50\n",
      "120/120 [==============================] - 0s 75us/step - loss: 0.0082 - acc: 0.3333\n",
      "Epoch 12/50\n",
      "120/120 [==============================] - 0s 66us/step - loss: 0.0075 - acc: 0.3333\n",
      "Epoch 13/50\n",
      "120/120 [==============================] - 0s 66us/step - loss: 0.0079 - acc: 0.3333\n",
      "Epoch 14/50\n",
      "120/120 [==============================] - 0s 66us/step - loss: 0.0070 - acc: 0.3333\n",
      "Epoch 15/50\n",
      "120/120 [==============================] - 0s 75us/step - loss: 0.0075 - acc: 0.3333\n",
      "Epoch 16/50\n",
      "120/120 [==============================] - 0s 83us/step - loss: 0.0068 - acc: 0.3333\n",
      "Epoch 17/50\n",
      "120/120 [==============================] - 0s 66us/step - loss: 0.0071 - acc: 0.3333\n",
      "Epoch 18/50\n",
      "120/120 [==============================] - 0s 75us/step - loss: 0.0067 - acc: 0.3333\n",
      "Epoch 19/50\n",
      "120/120 [==============================] - 0s 66us/step - loss: 0.0070 - acc: 0.3333\n",
      "Epoch 20/50\n",
      "120/120 [==============================] - 0s 75us/step - loss: 0.0065 - acc: 0.3333\n",
      "Epoch 21/50\n",
      "120/120 [==============================] - 0s 75us/step - loss: 0.0068 - acc: 0.3333\n",
      "Epoch 22/50\n",
      "120/120 [==============================] - 0s 66us/step - loss: 0.0064 - acc: 0.3333\n",
      "Epoch 23/50\n",
      "120/120 [==============================] - 0s 83us/step - loss: 0.0067 - acc: 0.3333\n",
      "Epoch 24/50\n",
      "120/120 [==============================] - 0s 75us/step - loss: 0.0063 - acc: 0.3333\n",
      "Epoch 25/50\n",
      "120/120 [==============================] - 0s 75us/step - loss: 0.0065 - acc: 0.3333\n",
      "Epoch 26/50\n",
      "120/120 [==============================] - 0s 75us/step - loss: 0.0061 - acc: 0.3333\n",
      "Epoch 27/50\n",
      "120/120 [==============================] - 0s 83us/step - loss: 0.0064 - acc: 0.3333\n",
      "Epoch 28/50\n",
      "120/120 [==============================] - 0s 100us/step - loss: 0.0059 - acc: 0.3333\n",
      "Epoch 29/50\n",
      "120/120 [==============================] - 0s 75us/step - loss: 0.0062 - acc: 0.3333\n",
      "Epoch 30/50\n",
      "120/120 [==============================] - 0s 75us/step - loss: 0.0059 - acc: 0.3333\n",
      "Epoch 31/50\n",
      "120/120 [==============================] - 0s 75us/step - loss: 0.0062 - acc: 0.3333\n",
      "Epoch 32/50\n",
      "120/120 [==============================] - 0s 91us/step - loss: 0.0058 - acc: 0.3333\n",
      "Epoch 33/50\n",
      "120/120 [==============================] - 0s 83us/step - loss: 0.0060 - acc: 0.3333\n",
      "Epoch 34/50\n",
      "120/120 [==============================] - 0s 75us/step - loss: 0.0056 - acc: 0.3333\n",
      "Epoch 35/50\n",
      "120/120 [==============================] - 0s 83us/step - loss: 0.0059 - acc: 0.3417\n",
      "Epoch 36/50\n",
      "120/120 [==============================] - 0s 66us/step - loss: 0.0056 - acc: 0.3917\n",
      "Epoch 37/50\n",
      "120/120 [==============================] - 0s 75us/step - loss: 0.0057 - acc: 0.5000\n",
      "Epoch 38/50\n",
      "120/120 [==============================] - 0s 75us/step - loss: 0.0054 - acc: 0.5750\n",
      "Epoch 39/50\n",
      "120/120 [==============================] - 0s 75us/step - loss: 0.0057 - acc: 0.6250\n",
      "Epoch 40/50\n",
      "120/120 [==============================] - 0s 75us/step - loss: 0.0052 - acc: 0.6250\n",
      "Epoch 41/50\n",
      "120/120 [==============================] - 0s 75us/step - loss: 0.0055 - acc: 0.6500\n",
      "Epoch 42/50\n",
      "120/120 [==============================] - 0s 75us/step - loss: 0.0051 - acc: 0.6500\n",
      "Epoch 43/50\n",
      "120/120 [==============================] - 0s 75us/step - loss: 0.0054 - acc: 0.6500\n",
      "Epoch 44/50\n",
      "120/120 [==============================] - 0s 83us/step - loss: 0.0050 - acc: 0.6583\n",
      "Epoch 45/50\n",
      "120/120 [==============================] - 0s 91us/step - loss: 0.0053 - acc: 0.6583\n",
      "Epoch 46/50\n",
      "120/120 [==============================] - 0s 83us/step - loss: 0.0048 - acc: 0.6583\n",
      "Epoch 47/50\n"
     ]
    },
    {
     "name": "stdout",
     "output_type": "stream",
     "text": [
      "120/120 [==============================] - 0s 83us/step - loss: 0.0052 - acc: 0.6583\n",
      "Epoch 48/50\n",
      "120/120 [==============================] - 0s 75us/step - loss: 0.0048 - acc: 0.6583\n",
      "Epoch 49/50\n",
      "120/120 [==============================] - 0s 75us/step - loss: 0.0050 - acc: 0.6583\n",
      "Epoch 50/50\n",
      "120/120 [==============================] - 0s 83us/step - loss: 0.0047 - acc: 0.6583\n"
     ]
    },
    {
     "data": {
      "text/plain": [
       "AdaBoostClassifier(algorithm='SAMME.R',\n",
       "          base_estimator=<keras.wrappers.scikit_learn.KerasClassifier object at 0x000002202F0A9C88>,\n",
       "          learning_rate=1.0, n_estimators=5, random_state=1)"
      ]
     },
     "execution_count": 13,
     "metadata": {},
     "output_type": "execute_result"
    }
   ],
   "source": [
    "from keras.wrappers.scikit_learn import KerasClassifier\n",
    "from sklearn.ensemble import AdaBoostClassifier\n",
    "\n",
    "ann_estimator = KerasClassifier(build_fn= make_model, epochs=50, batch_size=100)\n",
    "\n",
    "boosted_ann = AdaBoostClassifier(base_estimator= ann_estimator,n_estimators=5,random_state=1)\n",
    "boosted_ann.fit(X_train, y_train)\n"
   ]
  },
  {
   "cell_type": "code",
   "execution_count": 14,
   "metadata": {},
   "outputs": [
    {
     "data": {
      "text/plain": [
       "0.95"
      ]
     },
     "execution_count": 14,
     "metadata": {},
     "output_type": "execute_result"
    }
   ],
   "source": [
    "boosted_ann.score(X_train,y_train)"
   ]
  },
  {
   "cell_type": "code",
   "execution_count": 15,
   "metadata": {},
   "outputs": [],
   "source": [
    "pred_ann=boosted_ann.predict(X_test)"
   ]
  },
  {
   "cell_type": "code",
   "execution_count": 16,
   "metadata": {},
   "outputs": [
    {
     "data": {
      "text/plain": [
       "array([[11,  0,  0],\n",
       "       [ 0, 10,  0],\n",
       "       [ 0,  3,  6]], dtype=int64)"
      ]
     },
     "execution_count": 16,
     "metadata": {},
     "output_type": "execute_result"
    }
   ],
   "source": [
    "from sklearn.metrics import confusion_matrix\n",
    "confusion_matrix(y_test, pred_ann)"
   ]
  },
  {
   "cell_type": "code",
   "execution_count": 17,
   "metadata": {},
   "outputs": [
    {
     "data": {
      "text/plain": [
       "0.9"
      ]
     },
     "execution_count": 17,
     "metadata": {},
     "output_type": "execute_result"
    }
   ],
   "source": [
    "from sklearn.metrics import accuracy_score\n",
    "accuracy_score(y_test, pred_ann)"
   ]
  },
  {
   "cell_type": "markdown",
   "metadata": {},
   "source": [
    "As you can see, our model has a huge improvement more than 100%."
   ]
  },
  {
   "cell_type": "markdown",
   "metadata": {},
   "source": [
    "##Task 2: We will use the MNIST dataset and we will construct another traditional multilayer perceptron model."
   ]
  },
  {
   "cell_type": "code",
   "execution_count": 18,
   "metadata": {},
   "outputs": [],
   "source": [
    "import numpy as np\n",
    "import seaborn as sns\n",
    "import pandas as pd\n",
    "import matplotlib.pyplot as plt\n",
    "from keras.models import Sequential\n",
    "from keras.layers import Dense\n",
    "from keras import regularizers\n",
    "%matplotlib inline"
   ]
  },
  {
   "cell_type": "code",
   "execution_count": 20,
   "metadata": {},
   "outputs": [
    {
     "name": "stdout",
     "output_type": "stream",
     "text": [
      "WARNING:tensorflow:From <ipython-input-20-20f188507493>:2: read_data_sets (from tensorflow.contrib.learn.python.learn.datasets.mnist) is deprecated and will be removed in a future version.\n",
      "Instructions for updating:\n",
      "Please use alternatives such as official/mnist/dataset.py from tensorflow/models.\n",
      "WARNING:tensorflow:From C:\\Users\\alex_\\Anaconda3\\envs\\tf-gpu\\lib\\site-packages\\tensorflow\\contrib\\learn\\python\\learn\\datasets\\mnist.py:260: maybe_download (from tensorflow.contrib.learn.python.learn.datasets.base) is deprecated and will be removed in a future version.\n",
      "Instructions for updating:\n",
      "Please write your own downloading logic.\n",
      "WARNING:tensorflow:From C:\\Users\\alex_\\Anaconda3\\envs\\tf-gpu\\lib\\site-packages\\tensorflow\\contrib\\learn\\python\\learn\\datasets\\mnist.py:262: extract_images (from tensorflow.contrib.learn.python.learn.datasets.mnist) is deprecated and will be removed in a future version.\n",
      "Instructions for updating:\n",
      "Please use tf.data to implement this functionality.\n",
      "Extracting MNIST_data/train-images-idx3-ubyte.gz\n",
      "WARNING:tensorflow:From C:\\Users\\alex_\\Anaconda3\\envs\\tf-gpu\\lib\\site-packages\\tensorflow\\contrib\\learn\\python\\learn\\datasets\\mnist.py:267: extract_labels (from tensorflow.contrib.learn.python.learn.datasets.mnist) is deprecated and will be removed in a future version.\n",
      "Instructions for updating:\n",
      "Please use tf.data to implement this functionality.\n",
      "Extracting MNIST_data/train-labels-idx1-ubyte.gz\n",
      "Extracting MNIST_data/t10k-images-idx3-ubyte.gz\n",
      "Extracting MNIST_data/t10k-labels-idx1-ubyte.gz\n",
      "WARNING:tensorflow:From C:\\Users\\alex_\\Anaconda3\\envs\\tf-gpu\\lib\\site-packages\\tensorflow\\contrib\\learn\\python\\learn\\datasets\\mnist.py:290: DataSet.__init__ (from tensorflow.contrib.learn.python.learn.datasets.mnist) is deprecated and will be removed in a future version.\n",
      "Instructions for updating:\n",
      "Please use alternatives such as official/mnist/dataset.py from tensorflow/models.\n"
     ]
    }
   ],
   "source": [
    "from tensorflow.examples.tutorials.mnist import input_data\n",
    "mnist = input_data.read_data_sets(\"MNIST_data/\")\n",
    "\n",
    "mnist_images = mnist.train.images\n",
    "mnist_labels = mnist.train.labels"
   ]
  },
  {
   "cell_type": "code",
   "execution_count": 21,
   "metadata": {},
   "outputs": [
    {
     "data": {
      "text/plain": [
       "Datasets(train=<tensorflow.contrib.learn.python.learn.datasets.mnist.DataSet object at 0x000002203F50AB70>, validation=<tensorflow.contrib.learn.python.learn.datasets.mnist.DataSet object at 0x000002203F50A278>, test=<tensorflow.contrib.learn.python.learn.datasets.mnist.DataSet object at 0x000002203F50AEF0>)"
      ]
     },
     "execution_count": 21,
     "metadata": {},
     "output_type": "execute_result"
    }
   ],
   "source": [
    "mnist"
   ]
  },
  {
   "cell_type": "code",
   "execution_count": 23,
   "metadata": {},
   "outputs": [
    {
     "data": {
      "text/plain": [
       "(55000, 784)"
      ]
     },
     "execution_count": 23,
     "metadata": {},
     "output_type": "execute_result"
    }
   ],
   "source": [
    "mnist_images.shape"
   ]
  },
  {
   "cell_type": "code",
   "execution_count": 22,
   "metadata": {},
   "outputs": [
    {
     "data": {
      "text/plain": [
       "(55000,)"
      ]
     },
     "execution_count": 22,
     "metadata": {},
     "output_type": "execute_result"
    }
   ],
   "source": [
    "mnist_labels.shape"
   ]
  },
  {
   "cell_type": "code",
   "execution_count": 8,
   "metadata": {},
   "outputs": [
    {
     "data": {
      "image/png": "[encoded data removed]",
      "text/plain": [
       "<Figure size 1440x288 with 5 Axes>"
      ]
     },
     "metadata": {
      "needs_background": "light"
     },
     "output_type": "display_data"
    }
   ],
   "source": [
    "plt.figure(figsize=(20,4))\n",
    "for index, (image, label) in enumerate(zip(mnist_images[0:5], mnist_labels[0:5])):\n",
    "    plt.subplot(1, 5, index + 1)\n",
    "    plt.imshow(np.reshape(image, (28,28)), cmap=plt.cm.gray)\n",
    "    plt.title('Training: %i\\n' % label, fontsize = 20)"
   ]
  },
  {
   "cell_type": "code",
   "execution_count": 6,
   "metadata": {},
   "outputs": [],
   "source": [
    "from keras.utils import to_categorical\n",
    "# one hot encode\n",
    "mnist_labels_encoded = to_categorical(mnist_labels)"
   ]
  },
  {
   "cell_type": "code",
   "execution_count": 7,
   "metadata": {},
   "outputs": [],
   "source": [
    "from sklearn.model_selection import train_test_split\n",
    "train_img, test_img, train_lbl, test_lbl = train_test_split(\n",
    "    mnist_images, mnist_labels_encoded, test_size=0.25, random_state=0)"
   ]
  },
  {
   "cell_type": "code",
   "execution_count": 9,
   "metadata": {},
   "outputs": [
    {
     "data": {
      "text/plain": [
       "(41250, 784)"
      ]
     },
     "execution_count": 9,
     "metadata": {},
     "output_type": "execute_result"
    }
   ],
   "source": [
    "train_img.shape\n"
   ]
  },
  {
   "cell_type": "code",
   "execution_count": 11,
   "metadata": {},
   "outputs": [
    {
     "name": "stdout",
     "output_type": "stream",
     "text": [
      "Epoch 1/10\n",
      "41250/41250 [==============================] - 40s 961us/step - loss: 0.4098 - acc: 0.8834\n",
      "Epoch 2/10\n",
      "41250/41250 [==============================] - 3s 65us/step - loss: 0.1563 - acc: 0.9530\n",
      "Epoch 3/10\n",
      "41250/41250 [==============================] - 3s 63us/step - loss: 0.1099 - acc: 0.9677\n",
      "Epoch 4/10\n",
      "41250/41250 [==============================] - 3s 64us/step - loss: 0.0834 - acc: 0.9756\n",
      "Epoch 5/10\n",
      "41250/41250 [==============================] - 3s 64us/step - loss: 0.0616 - acc: 0.9811\n",
      "Epoch 6/10\n",
      "41250/41250 [==============================] - 3s 66us/step - loss: 0.0489 - acc: 0.9851\n",
      "Epoch 7/10\n",
      "41250/41250 [==============================] - 3s 65us/step - loss: 0.0407 - acc: 0.9872\n",
      "Epoch 8/10\n",
      "41250/41250 [==============================] - 3s 63us/step - loss: 0.0318 - acc: 0.9903\n",
      "Epoch 9/10\n",
      "41250/41250 [==============================] - 3s 63us/step - loss: 0.0270 - acc: 0.9912\n",
      "Epoch 10/10\n",
      "41250/41250 [==============================] - 3s 63us/step - loss: 0.0207 - acc: 0.9937\n"
     ]
    },
    {
     "data": {
      "text/plain": [
       "<keras.callbacks.History at 0x23d8bb6a470>"
      ]
     },
     "execution_count": 11,
     "metadata": {},
     "output_type": "execute_result"
    }
   ],
   "source": [
    "model = Sequential()\n",
    "model.add(Dense(128, input_dim=784, activation='relu')) # first hidden layer\n",
    "\n",
    "model.add(Dense(64, activation='relu'))\n",
    "model.add(Dense(64, activation='relu'))\n",
    "model.add(Dense(10, activation='softmax')) \n",
    "# Compile model\n",
    "model.compile(loss='categorical_crossentropy', optimizer='adam', metrics=['accuracy'])\n",
    "\n",
    "\n",
    "model.fit(train_img, train_lbl, epochs=10, batch_size=128)\n"
   ]
  },
  {
   "cell_type": "markdown",
   "metadata": {},
   "source": [
    "<h4> Model using Drop Out"
   ]
  },
  {
   "cell_type": "markdown",
   "metadata": {},
   "source": [
    "Because our dataset contains 55000 images, it is good enough to make a good model. Above we can see we obtained an accuracy of 0.9937. Sometimes, because we are using deep learning models, it could occur that our model is overfitting. A technique to avoid this is to use Dropout, which will randomly select a fraction of our dataset to 0 and won't be considered as a data in each layer of our model."
   ]
  },
  {
   "cell_type": "code",
   "execution_count": 12,
   "metadata": {},
   "outputs": [
    {
     "name": "stdout",
     "output_type": "stream",
     "text": [
      "WARNING:tensorflow:From C:\\Users\\alex_\\Anaconda3\\envs\\tf-gpu\\lib\\site-packages\\keras\\backend\\tensorflow_backend.py:3445: calling dropout (from tensorflow.python.ops.nn_ops) with keep_prob is deprecated and will be removed in a future version.\n",
      "Instructions for updating:\n",
      "Please use `rate` instead of `keep_prob`. Rate should be set to `rate = 1 - keep_prob`.\n"
     ]
    },
    {
     "name": "stderr",
     "output_type": "stream",
     "text": [
      "C:\\Users\\alex_\\Anaconda3\\envs\\tf-gpu\\lib\\site-packages\\ipykernel_launcher.py:6: UserWarning: Update your `Dropout` call to the Keras 2 API: `Dropout(rate=0.1)`\n",
      "  \n",
      "C:\\Users\\alex_\\Anaconda3\\envs\\tf-gpu\\lib\\site-packages\\ipykernel_launcher.py:8: UserWarning: Update your `Dropout` call to the Keras 2 API: `Dropout(rate=0.1)`\n",
      "  \n",
      "C:\\Users\\alex_\\Anaconda3\\envs\\tf-gpu\\lib\\site-packages\\ipykernel_launcher.py:10: UserWarning: Update your `Dropout` call to the Keras 2 API: `Dropout(rate=0.1)`\n",
      "  # Remove the CWD from sys.path while we load stuff.\n"
     ]
    },
    {
     "name": "stdout",
     "output_type": "stream",
     "text": [
      "Epoch 1/10\n",
      "41250/41250 [==============================] - 120s 3ms/step - loss: 0.3210 - acc: 0.9032\n",
      "Epoch 2/10\n",
      "41250/41250 [==============================] - 73s 2ms/step - loss: 0.1684 - acc: 0.9509\n",
      "Epoch 3/10\n",
      "41250/41250 [==============================] - 75s 2ms/step - loss: 0.1359 - acc: 0.9606\n",
      "Epoch 4/10\n",
      "41250/41250 [==============================] - 75s 2ms/step - loss: 0.1169 - acc: 0.9666\n",
      "Epoch 5/10\n",
      "41250/41250 [==============================] - 74s 2ms/step - loss: 0.1065 - acc: 0.9698\n",
      "Epoch 6/10\n",
      "41250/41250 [==============================] - 75s 2ms/step - loss: 0.0961 - acc: 0.9714\n",
      "Epoch 7/10\n",
      "41250/41250 [==============================] - 75s 2ms/step - loss: 0.0892 - acc: 0.9747\n",
      "Epoch 8/10\n",
      "41250/41250 [==============================] - 75s 2ms/step - loss: 0.0847 - acc: 0.9766\n",
      "Epoch 9/10\n",
      "41250/41250 [==============================] - 72s 2ms/step - loss: 0.0803 - acc: 0.9779\n",
      "Epoch 10/10\n",
      "41250/41250 [==============================] - 71s 2ms/step - loss: 0.0739 - acc: 0.9788\n"
     ]
    },
    {
     "data": {
      "text/plain": [
       "<keras.callbacks.History at 0x23d8d0dac18>"
      ]
     },
     "execution_count": 12,
     "metadata": {},
     "output_type": "execute_result"
    }
   ],
   "source": [
    "\n",
    "from keras.layers import Dropout\n",
    "\n",
    "model_do = Sequential()\n",
    "model_do.add(Dense(128, input_dim=784, activation='relu'))\n",
    "model_do.add(Dropout(p=0.1))\n",
    "model_do.add(Dense(64, activation='relu'))\n",
    "model_do.add(Dropout(p=0.1))\n",
    "model_do.add(Dense(64, activation='relu'))\n",
    "model_do.add(Dropout(p=0.1))\n",
    "model_do.add(Dense(10, activation='softmax')) \n",
    "# Compile model\n",
    "model_do.compile(loss='categorical_crossentropy', optimizer='adam', metrics=['accuracy'])\n",
    "\n",
    "\n",
    "model_do.fit(train_img, train_lbl, epochs=10, batch_size=5)\n",
    "\n"
   ]
  },
  {
   "cell_type": "markdown",
   "metadata": {},
   "source": [
    "Even using Dropout function in our model, we obtained a good accuracy in our model (0.9788). That's because the amount of data in our model. In deep learning, it is beneficial having a lot of data to construct a good model."
   ]
  },
  {
   "cell_type": "markdown",
   "metadata": {},
   "source": [
    "##Task 3: We will train a convolutional neural network on the SVHN dataset (http://ufldl.stanford.edu/housenumbers/) in format 2 (single digit classification)"
   ]
  },
  {
   "cell_type": "markdown",
   "metadata": {},
   "source": [
    "A convolutional neural network is a different approach we used before. This method is perfect to use with images. Before we used a mnist dataset which was already converted in an array. Here, we are using images with colors (and other features such as shadows, brightness, etc), and we know in some cases, the model should consider colors to make a good classification."
   ]
  },
  {
   "cell_type": "code",
   "execution_count": 24,
   "metadata": {},
   "outputs": [
    {
     "name": "stdout",
     "output_type": "stream",
     "text": [
      "['X', '__globals__', '__header__', '__version__', 'y']\n",
      "['X', '__globals__', '__header__', '__version__', 'y']\n"
     ]
    }
   ],
   "source": [
    "import scipy.io\n",
    "mat = scipy.io.loadmat('C:/Users/alex_/Desktop/college/DS630-MachineLear/train_32x32.mat',struct_as_record=False)\n",
    "mat_test = scipy.io.loadmat('C:/Users/alex_/Desktop/college/DS630-MachineLear/test_32x32.mat',struct_as_record=False)\n",
    "\n",
    "print(sorted(mat.keys()))\n",
    "print(sorted(mat_test.keys()))"
   ]
  },
  {
   "cell_type": "code",
   "execution_count": 25,
   "metadata": {},
   "outputs": [],
   "source": [
    "X_train=mat[\"X\"]\n",
    "y_train=mat[\"y\"]\n",
    "\n",
    "X_test=mat_test[\"X\"]\n",
    "y_test=mat_test[\"y\"]"
   ]
  },
  {
   "cell_type": "code",
   "execution_count": 26,
   "metadata": {},
   "outputs": [
    {
     "data": {
      "image/png": "[encoded data removed]",
      "text/plain": [
       "<Figure size 576x216 with 7 Axes>"
      ]
     },
     "metadata": {
      "needs_background": "light"
     },
     "output_type": "display_data"
    }
   ],
   "source": [
    "plt.figure(figsize=(8,3))\n",
    "for index, (image, label) in enumerate(zip(X_train[0:7], y_train[0:7])):\n",
    "    imgplot = plt.imshow(X_train[:,:,:,index])\n",
    "    plt.title('Training: %i\\n' % label, fontsize = 10)\n",
    "    plt.subplot(1,7,index+1)\n",
    "    plt.axis('off')\n",
    "    \n",
    "plt.show()"
   ]
  },
  {
   "cell_type": "code",
   "execution_count": 27,
   "metadata": {},
   "outputs": [
    {
     "name": "stdout",
     "output_type": "stream",
     "text": [
      "(32, 32, 3, 73257)\n",
      "(73257, 1)\n",
      "(32, 32, 3, 26032)\n",
      "(26032, 1)\n"
     ]
    }
   ],
   "source": [
    "print(X_train.shape)\n",
    "print(y_train.shape)\n",
    "print(X_test.shape)\n",
    "print(y_test.shape)\n"
   ]
  },
  {
   "cell_type": "code",
   "execution_count": 8,
   "metadata": {},
   "outputs": [
    {
     "name": "stdout",
     "output_type": "stream",
     "text": [
      "{1: 13861, 2: 10585, 3: 8497, 4: 7458, 5: 6882, 6: 5727, 7: 5595, 8: 5045, 9: 4659, 10: 4948}\n"
     ]
    }
   ],
   "source": [
    "#how many elements are in species\n",
    "unique, counts = np.unique(y_train, return_counts=True)\n",
    "print(dict(zip(unique, counts)))"
   ]
  },
  {
   "cell_type": "markdown",
   "metadata": {},
   "source": [
    "The class number 10 is because we are also considering zeros, so we need to change it."
   ]
  },
  {
   "cell_type": "code",
   "execution_count": 9,
   "metadata": {},
   "outputs": [],
   "source": [
    "y_train[y_train == 10] = 0\n",
    "y_test[y_test == 10] = 0"
   ]
  },
  {
   "cell_type": "code",
   "execution_count": 10,
   "metadata": {},
   "outputs": [],
   "source": [
    "\n",
    "X_train, y_train = X_train.transpose((3,0,1,2)), y_train[:,0]\n",
    "X_test, y_test = X_test.transpose((3,0,1,2)), y_test[:,0]"
   ]
  },
  {
   "cell_type": "code",
   "execution_count": 15,
   "metadata": {},
   "outputs": [
    {
     "name": "stdout",
     "output_type": "stream",
     "text": [
      "(73257, 10)\n",
      "(26032, 10)\n"
     ]
    }
   ],
   "source": [
    "from keras.utils import to_categorical\n",
    "# one hot encode\n",
    "y_train_encoded = to_categorical(y_train)\n",
    "y_test_encoded = to_categorical(y_test)\n",
    "\n",
    "print(y_train_encoded.shape)\n",
    "print(y_test_encoded.shape)"
   ]
  },
  {
   "cell_type": "code",
   "execution_count": 16,
   "metadata": {},
   "outputs": [],
   "source": [
    "# Importing the Keras libraries and packages\n",
    "from keras.models import Sequential\n",
    "from keras.layers import Conv2D\n",
    "from keras.layers import MaxPooling2D\n",
    "from keras.layers import Flatten\n",
    "from keras.layers import Dense,Dropout"
   ]
  },
  {
   "cell_type": "code",
   "execution_count": 17,
   "metadata": {},
   "outputs": [
    {
     "name": "stdout",
     "output_type": "stream",
     "text": [
      "WARNING:tensorflow:From C:\\Users\\alex_\\Anaconda3\\envs\\tf-gpu\\lib\\site-packages\\tensorflow\\python\\framework\\op_def_library.py:263: colocate_with (from tensorflow.python.framework.ops) is deprecated and will be removed in a future version.\n",
      "Instructions for updating:\n",
      "Colocations handled automatically by placer.\n",
      "WARNING:tensorflow:From C:\\Users\\alex_\\Anaconda3\\envs\\tf-gpu\\lib\\site-packages\\keras\\backend\\tensorflow_backend.py:3445: calling dropout (from tensorflow.python.ops.nn_ops) with keep_prob is deprecated and will be removed in a future version.\n",
      "Instructions for updating:\n",
      "Please use `rate` instead of `keep_prob`. Rate should be set to `rate = 1 - keep_prob`.\n"
     ]
    }
   ],
   "source": [
    "# Initialising the CNN\n",
    "classifier_cnn = Sequential()\n",
    "\n",
    "# Step 1 - Convolution\n",
    "classifier_cnn.add(Conv2D(32, (3, 3), input_shape = (32, 32, 3), activation = 'relu'))\n",
    "\n",
    "# Step 2 - Pooling\n",
    "classifier_cnn.add(MaxPooling2D(pool_size = (2, 2)))\n",
    "\n",
    "classifier_cnn.add(Conv2D(32, (3, 3), activation = 'relu'))\n",
    "classifier_cnn.add(MaxPooling2D(pool_size = (2, 2)))\n",
    "\n",
    "classifier_cnn.add(Conv2D(32, (3, 3), activation = 'relu'))\n",
    "classifier_cnn.add(MaxPooling2D(pool_size = (2, 2)))\n",
    "\n",
    "\n",
    "\n",
    "# Step 3 - Flattening\n",
    "classifier_cnn.add(Flatten())\n",
    "\n",
    "# Step 4 - Full connection\n",
    "\n",
    "classifier_cnn.add(Dense(units = 64, activation = 'relu'))\n",
    "classifier_cnn.add(Dropout(0.2))\n",
    "classifier_cnn.add(Dense(units = 64, activation = 'relu'))\n",
    "classifier_cnn.add(Dropout(0.2))\n",
    "classifier_cnn.add(Dense(units = 10, activation = 'softmax'))\n",
    "\n",
    "# Compiling the CNN\n",
    "classifier_cnn.compile(optimizer = 'adam', loss = 'categorical_crossentropy', metrics = ['accuracy'])\n"
   ]
  },
  {
   "cell_type": "code",
   "execution_count": 18,
   "metadata": {},
   "outputs": [
    {
     "name": "stdout",
     "output_type": "stream",
     "text": [
      "_________________________________________________________________\n",
      "Layer (type)                 Output Shape              Param #   \n",
      "=================================================================\n",
      "conv2d_1 (Conv2D)            (None, 30, 30, 32)        896       \n",
      "_________________________________________________________________\n",
      "max_pooling2d_1 (MaxPooling2 (None, 15, 15, 32)        0         \n",
      "_________________________________________________________________\n",
      "conv2d_2 (Conv2D)            (None, 13, 13, 32)        9248      \n",
      "_________________________________________________________________\n",
      "max_pooling2d_2 (MaxPooling2 (None, 6, 6, 32)          0         \n",
      "_________________________________________________________________\n",
      "conv2d_3 (Conv2D)            (None, 4, 4, 32)          9248      \n",
      "_________________________________________________________________\n",
      "max_pooling2d_3 (MaxPooling2 (None, 2, 2, 32)          0         \n",
      "_________________________________________________________________\n",
      "flatten_1 (Flatten)          (None, 128)               0         \n",
      "_________________________________________________________________\n",
      "dense_1 (Dense)              (None, 64)                8256      \n",
      "_________________________________________________________________\n",
      "dropout_1 (Dropout)          (None, 64)                0         \n",
      "_________________________________________________________________\n",
      "dense_2 (Dense)              (None, 64)                4160      \n",
      "_________________________________________________________________\n",
      "dropout_2 (Dropout)          (None, 64)                0         \n",
      "_________________________________________________________________\n",
      "dense_3 (Dense)              (None, 10)                650       \n",
      "=================================================================\n",
      "Total params: 32,458\n",
      "Trainable params: 32,458\n",
      "Non-trainable params: 0\n",
      "_________________________________________________________________\n"
     ]
    }
   ],
   "source": [
    "classifier_cnn.summary()"
   ]
  },
  {
   "cell_type": "markdown",
   "metadata": {},
   "source": [
    "After creating our model, we need to create our ImageDataGenerator, which allows to make a configuration for image data preparation and augmentation. This function have different parameters which is good to know (https://keras.io/preprocessing/image/). Here, we are using the default parameters we found in the documentation."
   ]
  },
  {
   "cell_type": "code",
   "execution_count": 19,
   "metadata": {},
   "outputs": [],
   "source": [
    "from keras.preprocessing.image import ImageDataGenerator\n",
    "\n",
    "datagen = ImageDataGenerator(\n",
    "    rescale = 1./255,\n",
    "    zoom_range=0.08,\n",
    "    rotation_range=8,\n",
    "    width_shift_range=0.2,\n",
    "    height_shift_range=0.2)\n",
    "test_gen = ImageDataGenerator(rescale = 1./255)\n",
    "\n",
    "train_generator = datagen.flow(X_train, y_train_encoded, batch_size=64)\n",
    "test_generator = test_gen.flow(X_test, y_test_encoded, batch_size=64)"
   ]
  },
  {
   "cell_type": "markdown",
   "metadata": {},
   "source": [
    "<h4> Base CNN model"
   ]
  },
  {
   "cell_type": "code",
   "execution_count": 20,
   "metadata": {},
   "outputs": [
    {
     "name": "stdout",
     "output_type": "stream",
     "text": [
      "WARNING:tensorflow:From C:\\Users\\alex_\\Anaconda3\\envs\\tf-gpu\\lib\\site-packages\\tensorflow\\python\\ops\\math_ops.py:3066: to_int32 (from tensorflow.python.ops.math_ops) is deprecated and will be removed in a future version.\n",
      "Instructions for updating:\n",
      "Use tf.cast instead.\n",
      "Epoch 1/5\n",
      "6000/6000 [==============================] - 148s 25ms/step - loss: 1.2945 - acc: 0.5683 - val_loss: 0.5052 - val_acc: 0.8491\n",
      "Epoch 2/5\n",
      "6000/6000 [==============================] - 134s 22ms/step - loss: 0.7995 - acc: 0.7504 - val_loss: 0.4488 - val_acc: 0.8645\n",
      "Epoch 3/5\n",
      "6000/6000 [==============================] - 136s 23ms/step - loss: 0.7090 - acc: 0.7807 - val_loss: 0.3742 - val_acc: 0.8876\n",
      "Epoch 4/5\n",
      "6000/6000 [==============================] - 136s 23ms/step - loss: 0.6703 - acc: 0.7932 - val_loss: 0.3582 - val_acc: 0.8932\n",
      "Epoch 5/5\n",
      "6000/6000 [==============================] - 135s 22ms/step - loss: 0.6425 - acc: 0.8023 - val_loss: 0.3547 - val_acc: 0.8936\n"
     ]
    },
    {
     "data": {
      "text/plain": [
       "<keras.callbacks.History at 0x1a329717b38>"
      ]
     },
     "execution_count": 20,
     "metadata": {},
     "output_type": "execute_result"
    }
   ],
   "source": [
    "\n",
    "classifier_cnn.fit_generator(train_generator, validation_data=test_generator,\n",
    "                             steps_per_epoch=6000, epochs=5,validation_steps=1000)\n"
   ]
  },
  {
   "cell_type": "markdown",
   "metadata": {},
   "source": [
    "Again we obtained a good model with an accuracy of 0.8936. However, to train this model took a lot of time. One method to reduce the running time is to add BatchNormalization layers in our model. "
   ]
  },
  {
   "cell_type": "markdown",
   "metadata": {},
   "source": [
    "<h4> Building a CNN Model using Batch Normalization"
   ]
  },
  {
   "cell_type": "code",
   "execution_count": 21,
   "metadata": {},
   "outputs": [],
   "source": [
    "# Importing the Keras libraries and packages\n",
    "from keras.models import Sequential\n",
    "from keras.layers import Conv2D\n",
    "from keras.layers import MaxPooling2D\n",
    "from keras.layers import Flatten\n",
    "from keras.layers import Dense\n",
    "from keras.layers.normalization import BatchNormalization"
   ]
  },
  {
   "cell_type": "code",
   "execution_count": 23,
   "metadata": {},
   "outputs": [
    {
     "name": "stdout",
     "output_type": "stream",
     "text": [
      "Epoch 1/5\n",
      "6000/6000 [==============================] - 168s 28ms/step - loss: 0.9495 - acc: 0.6934 - val_loss: 0.3878 - val_acc: 0.8875\n",
      "Epoch 2/5\n",
      "6000/6000 [==============================] - 136s 23ms/step - loss: 0.5948 - acc: 0.8149 - val_loss: 0.3200 - val_acc: 0.9073\n",
      "Epoch 3/5\n",
      "6000/6000 [==============================] - 136s 23ms/step - loss: 0.5359 - acc: 0.8332 - val_loss: 0.3082 - val_acc: 0.9113\n",
      "Epoch 4/5\n",
      "6000/6000 [==============================] - 136s 23ms/step - loss: 0.5067 - acc: 0.8432 - val_loss: 0.3416 - val_acc: 0.9019\n",
      "Epoch 5/5\n",
      "6000/6000 [==============================] - 137s 23ms/step - loss: 0.4830 - acc: 0.8509 - val_loss: 0.2963 - val_acc: 0.9162\n"
     ]
    },
    {
     "data": {
      "text/plain": [
       "<keras.callbacks.History at 0x1a37ee62da0>"
      ]
     },
     "execution_count": 23,
     "metadata": {},
     "output_type": "execute_result"
    }
   ],
   "source": [
    "# Initialising the CNN\n",
    "classifier_cnn_2 = Sequential()\n",
    "\n",
    "# Step 1 - Convolution\n",
    "classifier_cnn_2.add(Conv2D(32, (3, 3), input_shape = (32, 32, 3), activation = 'relu'))\n",
    "classifier_cnn_2.add(BatchNormalization(axis=-1))\n",
    "# Step 2 - Pooling\n",
    "classifier_cnn_2.add(MaxPooling2D(pool_size = (2, 2)))\n",
    "\n",
    "\n",
    "classifier_cnn_2.add(Conv2D(32, (3, 3), activation = 'relu'))\n",
    "classifier_cnn_2.add(BatchNormalization(axis=-1))\n",
    "classifier_cnn_2.add(MaxPooling2D(pool_size = (2, 2)))\n",
    "\n",
    "\n",
    "classifier_cnn_2.add(Conv2D(32, (3, 3), activation = 'relu'))\n",
    "classifier_cnn_2.add(BatchNormalization(axis=-1))\n",
    "classifier_cnn_2.add(MaxPooling2D(pool_size = (2, 2)))\n",
    "\n",
    "# Step 3 - Flattening\n",
    "classifier_cnn_2.add(Flatten())\n",
    "\n",
    "# Step 4 - Full connection\n",
    "classifier_cnn_2.add(Dense(units = 128, activation = 'relu'))\n",
    "classifier_cnn_2.add(BatchNormalization(axis=-1))\n",
    "classifier_cnn_2.add(Dropout(0.2))\n",
    "classifier_cnn_2.add(Dense(units = 10, activation = 'softmax'))\n",
    "\n",
    "# Compiling the CNN\n",
    "classifier_cnn_2.compile(optimizer = 'adam', loss = 'categorical_crossentropy', metrics = ['accuracy'])\n",
    "\n",
    "\n",
    "classifier_cnn_2.fit_generator(train_generator, validation_data=test_generator,\n",
    "                             steps_per_epoch=6000, epochs=5,validation_steps=1000)\n"
   ]
  },
  {
   "cell_type": "markdown",
   "metadata": {},
   "source": [
    "Clearly it took less of running time to finalize the training, and again we obtained a good model with an accuracy of 0.91"
   ]
  },
  {
   "cell_type": "markdown",
   "metadata": {},
   "source": [
    "##Task 4: We will load the weights of a pre-trained convolutional neural network included in keras, see https://keras.io/applications/ , and use it as feature extraction method to train another model. Use the pets dataset found in http://www.robots.ox.ac.uk/~vgg/data/pets/"
   ]
  },
  {
   "cell_type": "markdown",
   "metadata": {},
   "source": [
    "In this case, we are using VGG16 model."
   ]
  },
  {
   "cell_type": "code",
   "execution_count": 4,
   "metadata": {},
   "outputs": [
    {
     "name": "stdout",
     "output_type": "stream",
     "text": [
      "WARNING:tensorflow:From C:\\Users\\alex_\\Anaconda3\\envs\\tf-gpu\\lib\\site-packages\\tensorflow\\python\\framework\\op_def_library.py:263: colocate_with (from tensorflow.python.framework.ops) is deprecated and will be removed in a future version.\n",
      "Instructions for updating:\n",
      "Colocations handled automatically by placer.\n",
      "_________________________________________________________________\n",
      "Layer (type)                 Output Shape              Param #   \n",
      "=================================================================\n",
      "input_1 (InputLayer)         (None, None, None, 3)     0         \n",
      "_________________________________________________________________\n",
      "block1_conv1 (Conv2D)        (None, None, None, 64)    1792      \n",
      "_________________________________________________________________\n",
      "block1_conv2 (Conv2D)        (None, None, None, 64)    36928     \n",
      "_________________________________________________________________\n",
      "block1_pool (MaxPooling2D)   (None, None, None, 64)    0         \n",
      "_________________________________________________________________\n",
      "block2_conv1 (Conv2D)        (None, None, None, 128)   73856     \n",
      "_________________________________________________________________\n",
      "block2_conv2 (Conv2D)        (None, None, None, 128)   147584    \n",
      "_________________________________________________________________\n",
      "block2_pool (MaxPooling2D)   (None, None, None, 128)   0         \n",
      "_________________________________________________________________\n",
      "block3_conv1 (Conv2D)        (None, None, None, 256)   295168    \n",
      "_________________________________________________________________\n",
      "block3_conv2 (Conv2D)        (None, None, None, 256)   590080    \n",
      "_________________________________________________________________\n",
      "block3_conv3 (Conv2D)        (None, None, None, 256)   590080    \n",
      "_________________________________________________________________\n",
      "block3_pool (MaxPooling2D)   (None, None, None, 256)   0         \n",
      "_________________________________________________________________\n",
      "block4_conv1 (Conv2D)        (None, None, None, 512)   1180160   \n",
      "_________________________________________________________________\n",
      "block4_conv2 (Conv2D)        (None, None, None, 512)   2359808   \n",
      "_________________________________________________________________\n",
      "block4_conv3 (Conv2D)        (None, None, None, 512)   2359808   \n",
      "_________________________________________________________________\n",
      "block4_pool (MaxPooling2D)   (None, None, None, 512)   0         \n",
      "_________________________________________________________________\n",
      "block5_conv1 (Conv2D)        (None, None, None, 512)   2359808   \n",
      "_________________________________________________________________\n",
      "block5_conv2 (Conv2D)        (None, None, None, 512)   2359808   \n",
      "_________________________________________________________________\n",
      "block5_conv3 (Conv2D)        (None, None, None, 512)   2359808   \n",
      "_________________________________________________________________\n",
      "block5_pool (MaxPooling2D)   (None, None, None, 512)   0         \n",
      "=================================================================\n",
      "Total params: 14,714,688\n",
      "Trainable params: 14,714,688\n",
      "Non-trainable params: 0\n",
      "_________________________________________________________________\n"
     ]
    }
   ],
   "source": [
    "image_size=224\n",
    "from keras.applications.vgg16 import VGG16\n",
    "model_4 = VGG16(weights='imagenet', include_top=False,classes=38)\n",
    "\n",
    "model_4.summary()"
   ]
  },
  {
   "cell_type": "code",
   "execution_count": 5,
   "metadata": {},
   "outputs": [
    {
     "name": "stderr",
     "output_type": "stream",
     "text": [
      "b'Skipping line 5: expected 5 fields, saw 10\\nSkipping line 6: expected 5 fields, saw 8\\n'\n"
     ]
    }
   ],
   "source": [
    "listNames=pd.read_csv('C:/Users/alex_/Desktop/college/DS630-MachineLear/images.tar/list.txt', sep=\" \", header=None, error_bad_lines=False)"
   ]
  },
  {
   "cell_type": "code",
   "execution_count": 6,
   "metadata": {},
   "outputs": [
    {
     "data": {
      "text/html": [
       "<div>\n",
       "<style scoped>\n",
       "    .dataframe tbody tr th:only-of-type {\n",
       "        vertical-align: middle;\n",
       "    }\n",
       "\n",
       "    .dataframe tbody tr th {\n",
       "        vertical-align: top;\n",
       "    }\n",
       "\n",
       "    .dataframe thead th {\n",
       "        text-align: right;\n",
       "    }\n",
       "</style>\n",
       "<table border=\"1\" class=\"dataframe\">\n",
       "  <thead>\n",
       "    <tr style=\"text-align: right;\">\n",
       "      <th></th>\n",
       "      <th>0</th>\n",
       "      <th>1</th>\n",
       "      <th>2</th>\n",
       "      <th>3</th>\n",
       "      <th>4</th>\n",
       "    </tr>\n",
       "  </thead>\n",
       "  <tbody>\n",
       "    <tr>\n",
       "      <th>0</th>\n",
       "      <td>#Image</td>\n",
       "      <td>CLASS-ID</td>\n",
       "      <td>SPECIES</td>\n",
       "      <td>BREED</td>\n",
       "      <td>ID</td>\n",
       "    </tr>\n",
       "    <tr>\n",
       "      <th>1</th>\n",
       "      <td>#ID:</td>\n",
       "      <td>1:37</td>\n",
       "      <td>Class</td>\n",
       "      <td>ids</td>\n",
       "      <td>NaN</td>\n",
       "    </tr>\n",
       "    <tr>\n",
       "      <th>2</th>\n",
       "      <td>#SPECIES:</td>\n",
       "      <td>1:Cat</td>\n",
       "      <td>2:Dog</td>\n",
       "      <td>NaN</td>\n",
       "      <td>NaN</td>\n",
       "    </tr>\n",
       "    <tr>\n",
       "      <th>3</th>\n",
       "      <td>#BREED</td>\n",
       "      <td>ID:</td>\n",
       "      <td>1-25:Cat</td>\n",
       "      <td>1:12:Dog</td>\n",
       "      <td>NaN</td>\n",
       "    </tr>\n",
       "    <tr>\n",
       "      <th>4</th>\n",
       "      <td>Abyssinian_100</td>\n",
       "      <td>1</td>\n",
       "      <td>1</td>\n",
       "      <td>1</td>\n",
       "      <td>NaN</td>\n",
       "    </tr>\n",
       "    <tr>\n",
       "      <th>5</th>\n",
       "      <td>Abyssinian_101</td>\n",
       "      <td>1</td>\n",
       "      <td>1</td>\n",
       "      <td>1</td>\n",
       "      <td>NaN</td>\n",
       "    </tr>\n",
       "    <tr>\n",
       "      <th>6</th>\n",
       "      <td>Abyssinian_102</td>\n",
       "      <td>1</td>\n",
       "      <td>1</td>\n",
       "      <td>1</td>\n",
       "      <td>NaN</td>\n",
       "    </tr>\n",
       "    <tr>\n",
       "      <th>7</th>\n",
       "      <td>Abyssinian_103</td>\n",
       "      <td>1</td>\n",
       "      <td>1</td>\n",
       "      <td>1</td>\n",
       "      <td>NaN</td>\n",
       "    </tr>\n",
       "  </tbody>\n",
       "</table>\n",
       "</div>"
      ],
      "text/plain": [
       "                0         1         2         3    4\n",
       "0          #Image  CLASS-ID   SPECIES     BREED   ID\n",
       "1            #ID:      1:37     Class       ids  NaN\n",
       "2       #SPECIES:     1:Cat     2:Dog       NaN  NaN\n",
       "3          #BREED       ID:  1-25:Cat  1:12:Dog  NaN\n",
       "4  Abyssinian_100         1         1         1  NaN\n",
       "5  Abyssinian_101         1         1         1  NaN\n",
       "6  Abyssinian_102         1         1         1  NaN\n",
       "7  Abyssinian_103         1         1         1  NaN"
      ]
     },
     "execution_count": 6,
     "metadata": {},
     "output_type": "execute_result"
    }
   ],
   "source": [
    "listNames.head(8)"
   ]
  },
  {
   "cell_type": "code",
   "execution_count": 7,
   "metadata": {},
   "outputs": [
    {
     "data": {
      "text/html": [
       "<div>\n",
       "<style scoped>\n",
       "    .dataframe tbody tr th:only-of-type {\n",
       "        vertical-align: middle;\n",
       "    }\n",
       "\n",
       "    .dataframe tbody tr th {\n",
       "        vertical-align: top;\n",
       "    }\n",
       "\n",
       "    .dataframe thead th {\n",
       "        text-align: right;\n",
       "    }\n",
       "</style>\n",
       "<table border=\"1\" class=\"dataframe\">\n",
       "  <thead>\n",
       "    <tr style=\"text-align: right;\">\n",
       "      <th></th>\n",
       "      <th>0</th>\n",
       "      <th>1</th>\n",
       "      <th>2</th>\n",
       "      <th>3</th>\n",
       "      <th>4</th>\n",
       "    </tr>\n",
       "  </thead>\n",
       "  <tbody>\n",
       "    <tr>\n",
       "      <th>count</th>\n",
       "      <td>7353</td>\n",
       "      <td>7353</td>\n",
       "      <td>7353</td>\n",
       "      <td>7352</td>\n",
       "      <td>1</td>\n",
       "    </tr>\n",
       "    <tr>\n",
       "      <th>unique</th>\n",
       "      <td>7353</td>\n",
       "      <td>41</td>\n",
       "      <td>6</td>\n",
       "      <td>28</td>\n",
       "      <td>1</td>\n",
       "    </tr>\n",
       "    <tr>\n",
       "      <th>top</th>\n",
       "      <td>chihuahua_25</td>\n",
       "      <td>36</td>\n",
       "      <td>2</td>\n",
       "      <td>9</td>\n",
       "      <td>ID</td>\n",
       "    </tr>\n",
       "    <tr>\n",
       "      <th>freq</th>\n",
       "      <td>1</td>\n",
       "      <td>200</td>\n",
       "      <td>4978</td>\n",
       "      <td>400</td>\n",
       "      <td>1</td>\n",
       "    </tr>\n",
       "  </tbody>\n",
       "</table>\n",
       "</div>"
      ],
      "text/plain": [
       "                   0     1     2     3   4\n",
       "count           7353  7353  7353  7352   1\n",
       "unique          7353    41     6    28   1\n",
       "top     chihuahua_25    36     2     9  ID\n",
       "freq               1   200  4978   400   1"
      ]
     },
     "execution_count": 7,
     "metadata": {},
     "output_type": "execute_result"
    }
   ],
   "source": [
    "listNames.describe()"
   ]
  },
  {
   "cell_type": "code",
   "execution_count": 6,
   "metadata": {},
   "outputs": [],
   "source": [
    "listNames.columns = ['name', 'type','a','b','c']"
   ]
  },
  {
   "cell_type": "code",
   "execution_count": 7,
   "metadata": {},
   "outputs": [],
   "source": [
    "listNames=listNames.drop(listNames.index[[0,1,2,3]])\n",
    "listNames = listNames.drop('a', 1)\n",
    "listNames = listNames.drop('b', 1)\n",
    "listNames = listNames.drop('c', 1)"
   ]
  },
  {
   "cell_type": "code",
   "execution_count": 10,
   "metadata": {},
   "outputs": [
    {
     "name": "stdout",
     "output_type": "stream",
     "text": [
      "['1' '2' '3' '4' '5' '6' '7' '8' '9' '10' '11' '12' '13' '14' '15' '16'\n",
      " '17' '18' '19' '20' '21' '22' '23' '24' '25' '26' '27' '28' '29' '30'\n",
      " '31' '32' '33' '34' '35' '36' '37']\n"
     ]
    }
   ],
   "source": [
    "print(listNames.type.unique())   #different types of animals"
   ]
  },
  {
   "cell_type": "code",
   "execution_count": 8,
   "metadata": {
    "scrolled": false
   },
   "outputs": [
    {
     "name": "stderr",
     "output_type": "stream",
     "text": [
      "C:\\Users\\alex_\\Anaconda3\\envs\\tf-gpu\\lib\\site-packages\\ipykernel_launcher.py:26: DeprecationWarning: The truth value of an empty array is ambiguous. Returning False, but in future this will result in an error. Use `array.size > 0` to check that an array is not empty.\n"
     ]
    },
    {
     "name": "stdout",
     "output_type": "stream",
     "text": [
      "(7275, 224, 224, 3)\n"
     ]
    }
   ],
   "source": [
    "import os\n",
    "from keras.applications.vgg16 import preprocess_input\n",
    "from keras.preprocessing import image\n",
    "\n",
    "img_list = []\n",
    "\n",
    "num=0\n",
    "y=[]\n",
    "for filename in os.listdir('C:/Users/alex_/Desktop/college/DS630-MachineLear/images.tar/images'):\n",
    "    num=num+1\n",
    "    #if (num==10):\n",
    "    #    break\n",
    "    if filename.endswith(\".jpg\"): \n",
    "\n",
    "        \n",
    "        img = image.load_img('C:/Users/alex_/Desktop/college/DS630-MachineLear/images.tar/images/'+filename, target_size=(224, 224))\n",
    "        \n",
    "        pos_dot=filename.find('.')\n",
    "        filename2=filename[0:pos_dot]\n",
    "        if (num==10000):\n",
    "            print(filename2)\n",
    "        frame=listNames.loc[listNames['name'] == filename2]\n",
    "        \n",
    "        val=frame.iloc[:,1].values\n",
    "        \n",
    "        if(not val):\n",
    "            continue;\n",
    "        else:\n",
    "            y=np.append(y,val[0])\n",
    "            \n",
    "        \n",
    "        \n",
    "        \n",
    "        img_data = image.img_to_array(img)\n",
    "        #print(img_data.shape)\n",
    "        #img_data = np.expand_dims(img_data, axis=0)\n",
    "\n",
    "        img_list.append(img_data)\n",
    "        \n",
    "        \n",
    "img_list_np = np.array(img_list)\n",
    "print(img_list_np.shape)\n",
    "\n",
    "\n"
   ]
  },
  {
   "cell_type": "code",
   "execution_count": 9,
   "metadata": {},
   "outputs": [
    {
     "name": "stdout",
     "output_type": "stream",
     "text": [
      "<keras.engine.input_layer.InputLayer object at 0x000001B8D03E34E0> False\n",
      "<keras.layers.convolutional.Conv2D object at 0x000001B8D1DC2390> False\n",
      "<keras.layers.convolutional.Conv2D object at 0x000001B8BEC19208> False\n",
      "<keras.layers.pooling.MaxPooling2D object at 0x000001B8D5A909B0> False\n",
      "<keras.layers.convolutional.Conv2D object at 0x000001B8D5A90978> False\n",
      "<keras.layers.convolutional.Conv2D object at 0x000001B8FD11AC18> False\n",
      "<keras.layers.pooling.MaxPooling2D object at 0x000001B8FD132F60> False\n",
      "<keras.layers.convolutional.Conv2D object at 0x000001B8FD132E80> False\n",
      "<keras.layers.convolutional.Conv2D object at 0x000001B8FD164780> False\n",
      "<keras.layers.convolutional.Conv2D object at 0x000001B8FD197B70> False\n",
      "<keras.layers.pooling.MaxPooling2D object at 0x000001B8FD1AED30> False\n",
      "<keras.layers.convolutional.Conv2D object at 0x000001B8FD1AEB00> False\n",
      "<keras.layers.convolutional.Conv2D object at 0x000001B8FD1E6898> False\n",
      "<keras.layers.convolutional.Conv2D object at 0x000001B8FD1FBEF0> False\n",
      "<keras.layers.pooling.MaxPooling2D object at 0x000001B8FD22C668> False\n",
      "<keras.layers.convolutional.Conv2D object at 0x000001B8FD22CDA0> True\n",
      "<keras.layers.convolutional.Conv2D object at 0x000001B8FD24AE10> True\n",
      "<keras.layers.convolutional.Conv2D object at 0x000001B8FD276940> True\n",
      "<keras.layers.pooling.MaxPooling2D object at 0x000001B8FD292EF0> True\n"
     ]
    }
   ],
   "source": [
    "# Freeze the layers except the last 4 layers\n",
    "for layer in model_4.layers[:-4]:\n",
    "    layer.trainable = False\n",
    "# Check the trainable status of the individual layers\n",
    "for layer in model_4.layers:\n",
    "    print(layer, layer.trainable)"
   ]
  },
  {
   "cell_type": "code",
   "execution_count": 10,
   "metadata": {},
   "outputs": [],
   "source": [
    "from keras.applications.vgg16 import preprocess_input\n",
    "vgg16_feature_list=[]\n",
    "for imgx in img_list_np:\n",
    "    img_data = np.expand_dims(imgx, axis=0)\n",
    "\n",
    "    img_data = preprocess_input(img_data)\n",
    "\n",
    "\n",
    "\n",
    "    vgg16_feature = model_4.predict(img_data)\n",
    "\n",
    "    vgg16_feature_np = np.array(vgg16_feature)\n",
    "\n",
    "    vgg16_feature_list.append(vgg16_feature_np.flatten())\n",
    "    \n",
    "vgg16_feature_list_np = np.array(vgg16_feature_list)"
   ]
  },
  {
   "cell_type": "markdown",
   "metadata": {},
   "source": [
    "Above, in the last variable (vgg16_feature_list_np), we obtained the weights of our model, and with it we can use another model to make the predictions in our test dataset."
   ]
  },
  {
   "cell_type": "code",
   "execution_count": 12,
   "metadata": {},
   "outputs": [
    {
     "name": "stdout",
     "output_type": "stream",
     "text": [
      "(7275,)\n",
      "(7275, 38)\n"
     ]
    }
   ],
   "source": [
    "from keras.utils import to_categorical\n",
    "print(y.shape)\n",
    "y_encoded = to_categorical(y)\n",
    "print(y_encoded.shape)"
   ]
  },
  {
   "cell_type": "code",
   "execution_count": 15,
   "metadata": {
    "scrolled": true
   },
   "outputs": [
    {
     "name": "stdout",
     "output_type": "stream",
     "text": [
      "Epoch 1/20\n",
      "7275/7275 [==============================] - 11s 2ms/step - loss: 5.3897 - acc: 0.4010\n",
      "Epoch 2/20\n",
      "7275/7275 [==============================] - 2s 296us/step - loss: 0.5825 - acc: 0.8216\n",
      "Epoch 3/20\n",
      "7275/7275 [==============================] - 2s 295us/step - loss: 0.1624 - acc: 0.9487\n",
      "Epoch 4/20\n",
      "7275/7275 [==============================] - 2s 297us/step - loss: 0.0423 - acc: 0.9911\n",
      "Epoch 5/20\n",
      "7275/7275 [==============================] - 2s 296us/step - loss: 0.0075 - acc: 1.0000\n",
      "Epoch 6/20\n",
      "7275/7275 [==============================] - 2s 297us/step - loss: 0.0033 - acc: 1.0000\n",
      "Epoch 7/20\n",
      "7275/7275 [==============================] - 2s 297us/step - loss: 0.0023 - acc: 1.0000\n",
      "Epoch 8/20\n",
      "7275/7275 [==============================] - 2s 297us/step - loss: 0.0019 - acc: 1.0000\n",
      "Epoch 9/20\n",
      "7275/7275 [==============================] - 2s 297us/step - loss: 0.0015 - acc: 1.0000\n",
      "Epoch 10/20\n",
      "7275/7275 [==============================] - 2s 298us/step - loss: 0.0013 - acc: 1.0000\n",
      "Epoch 11/20\n",
      "7275/7275 [==============================] - 2s 297us/step - loss: 0.0012 - acc: 1.0000\n",
      "Epoch 12/20\n",
      "7275/7275 [==============================] - 2s 298us/step - loss: 0.0010 - acc: 1.0000\n",
      "Epoch 13/20\n",
      "7275/7275 [==============================] - 2s 297us/step - loss: 9.3464e-04 - acc: 1.0000\n",
      "Epoch 14/20\n",
      "7275/7275 [==============================] - 2s 296us/step - loss: 8.4830e-04 - acc: 1.0000\n",
      "Epoch 15/20\n",
      "7275/7275 [==============================] - 2s 303us/step - loss: 7.7829e-04 - acc: 1.0000\n",
      "Epoch 16/20\n",
      "7275/7275 [==============================] - 2s 299us/step - loss: 7.1827e-04 - acc: 1.0000\n",
      "Epoch 17/20\n",
      "7275/7275 [==============================] - 2s 297us/step - loss: 6.6698e-04 - acc: 1.0000\n",
      "Epoch 18/20\n",
      "7275/7275 [==============================] - 2s 298us/step - loss: 6.2228e-04 - acc: 1.0000\n",
      "Epoch 19/20\n",
      "7275/7275 [==============================] - 2s 298us/step - loss: 5.8277e-04 - acc: 1.0000\n",
      "Epoch 20/20\n",
      "7275/7275 [==============================] - 2s 298us/step - loss: 5.4812e-04 - acc: 1.0000\n"
     ]
    },
    {
     "data": {
      "text/plain": [
       "<keras.callbacks.History at 0x1baf0142d68>"
      ]
     },
     "execution_count": 15,
     "metadata": {},
     "output_type": "execute_result"
    }
   ],
   "source": [
    "from keras.models import Sequential\n",
    "from keras.layers import Dense\n",
    "\n",
    "output_nodes=38\n",
    "\n",
    "model_tk4 = Sequential()\n",
    "model_tk4.add(Dense(1024, input_dim=25088, activation='relu')) # first hidden layer\n",
    "\n",
    "model_tk4.add(Dense(512, activation='relu'))\n",
    "model_tk4.add(Dense(256, activation='relu'))\n",
    "model_tk4.add(Dense(128, activation='relu'))\n",
    "model_tk4.add(Dense(output_nodes, activation='softmax')) \n",
    "# Compile model\n",
    "model_tk4.compile(loss='categorical_crossentropy', optimizer='sgd', metrics=['accuracy'])\n",
    "\n",
    "model_tk4.fit(vgg16_feature_list_np, y_encoded, epochs=20, batch_size=64)\n"
   ]
  },
  {
   "cell_type": "markdown",
   "metadata": {},
   "source": [
    "We need to read the test dataset and then use it in our model we constructed above."
   ]
  },
  {
   "cell_type": "code",
   "execution_count": 16,
   "metadata": {},
   "outputs": [
    {
     "name": "stdout",
     "output_type": "stream",
     "text": [
      "(74, 224, 224, 3)\n"
     ]
    }
   ],
   "source": [
    "\n",
    "img_list_test = []\n",
    "\n",
    "num=0\n",
    "y_test=[]\n",
    "for filename in os.listdir('C:/Users/alex_/Desktop/college/DS630-MachineLear/images.tar/images_test'):\n",
    "\n",
    "    if filename.endswith(\".jpg\"): \n",
    "\n",
    "        \n",
    "        img = image.load_img('C:/Users/alex_/Desktop/college/DS630-MachineLear/images.tar/images_test/'+filename, target_size=(224, 224))\n",
    "        \n",
    "        pos_dot=filename.find('.')\n",
    "        filename2=filename[0:pos_dot]\n",
    "        \n",
    "        frame=listNames.loc[listNames['name'] == filename2]\n",
    "        \n",
    "        val=frame.iloc[:,1].values\n",
    "        \n",
    "        if(not val):\n",
    "            continue;\n",
    "        else:\n",
    "            y_test=np.append(y_test,val[0])\n",
    "            \n",
    "        \n",
    "        \n",
    "        \n",
    "        img_data = image.img_to_array(img)\n",
    "        #print(img_data.shape)\n",
    "        #img_data = np.expand_dims(img_data, axis=0)\n",
    "\n",
    "        img_list_test.append(img_data)\n",
    "        \n",
    "        \n",
    "img_list_np_test = np.array(img_list_test)\n",
    "print(img_list_np_test.shape)\n",
    "\n",
    "\n"
   ]
  },
  {
   "cell_type": "code",
   "execution_count": 17,
   "metadata": {},
   "outputs": [
    {
     "name": "stdout",
     "output_type": "stream",
     "text": [
      "(74, 38)\n"
     ]
    }
   ],
   "source": [
    "y_test_encoded = to_categorical(y_test)\n",
    "print(y_test_encoded.shape)"
   ]
  },
  {
   "cell_type": "code",
   "execution_count": 18,
   "metadata": {},
   "outputs": [],
   "source": [
    "from keras.applications.vgg16 import preprocess_input\n",
    "vgg16_feature_list_test=[]\n",
    "for imgx in img_list_np_test:\n",
    "    img_data = np.expand_dims(imgx, axis=0)\n",
    "\n",
    "    img_data = preprocess_input(img_data)\n",
    "\n",
    "\n",
    "\n",
    "    vgg16_feature = model_4.predict(img_data)\n",
    "\n",
    "    vgg16_feature_np = np.array(vgg16_feature)\n",
    "\n",
    "    vgg16_feature_list_test.append(vgg16_feature_np.flatten())\n",
    "    \n",
    "vgg16_feature_list_np_test = np.array(vgg16_feature_list_test)"
   ]
  },
  {
   "cell_type": "code",
   "execution_count": 19,
   "metadata": {},
   "outputs": [],
   "source": [
    "predictions=model_tk4.predict(vgg16_feature_list_np_test)"
   ]
  },
  {
   "cell_type": "code",
   "execution_count": 20,
   "metadata": {},
   "outputs": [
    {
     "data": {
      "text/plain": [
       "array([[8.9563720e-08, 8.8464892e-01, 4.2988638e-08, ..., 1.5554915e-11,\n",
       "        1.2540657e-11, 5.1354387e-08],\n",
       "       [1.6823810e-08, 9.9999821e-01, 1.8474460e-11, ..., 2.1937636e-10,\n",
       "        5.1224982e-15, 1.4252803e-11],\n",
       "       [1.5001750e-07, 9.8109998e-10, 7.7974491e-02, ..., 8.3620921e-02,\n",
       "        8.7683771e-10, 6.7451357e-12],\n",
       "       ...,\n",
       "       [3.9758058e-11, 2.6749236e-14, 1.5431955e-13, ..., 1.5958128e-12,\n",
       "        9.9999166e-01, 6.8620793e-09],\n",
       "       [2.7552567e-17, 8.4953034e-14, 2.2138547e-22, ..., 3.1650738e-14,\n",
       "        1.6963933e-13, 1.0000000e+00],\n",
       "       [3.1492574e-16, 9.3937047e-15, 1.0747636e-24, ..., 1.4521975e-14,\n",
       "        1.6771321e-09, 1.0000000e+00]], dtype=float32)"
      ]
     },
     "execution_count": 20,
     "metadata": {},
     "output_type": "execute_result"
    }
   ],
   "source": [
    "predictions"
   ]
  },
  {
   "cell_type": "markdown",
   "metadata": {},
   "source": [
    "As the result of the prediction, we obtained probabilities of each class, we need the maximum number of each row and then we will compare with the truth values."
   ]
  },
  {
   "cell_type": "code",
   "execution_count": 21,
   "metadata": {},
   "outputs": [],
   "source": [
    "y_pred=[]\n",
    "for list_x in predictions:\n",
    "    num=max(list_x)\n",
    "    index=list_x.tolist().index(num)\n",
    "    y_pred.append(index)"
   ]
  },
  {
   "cell_type": "code",
   "execution_count": 23,
   "metadata": {},
   "outputs": [],
   "source": [
    "y_pred_mat=np.zeros((len(y_pred), 38))\n",
    "ind=0\n",
    "for i in y_pred:\n",
    "    y_pred_mat[ind][i]=1\n",
    "    ind=ind+1"
   ]
  },
  {
   "cell_type": "code",
   "execution_count": 26,
   "metadata": {
    "scrolled": true
   },
   "outputs": [
    {
     "data": {
      "text/plain": [
       "0.8243243243243243"
      ]
     },
     "execution_count": 26,
     "metadata": {},
     "output_type": "execute_result"
    }
   ],
   "source": [
    "from sklearn.metrics import confusion_matrix,accuracy_score\n",
    "accuracy_score(y_test_encoded,y_pred_mat)\n"
   ]
  },
  {
   "cell_type": "markdown",
   "metadata": {},
   "source": [
    "Finally, we see that we obtained an accuracy of 0.82."
   ]
  },
  {
   "cell_type": "code",
   "execution_count": null,
   "metadata": {},
   "outputs": [],
   "source": []
  }
 ],
 "metadata": {
  "kernelspec": {
   "display_name": "TensorFlow-GPU",
   "language": "python",
   "name": "tf-gpu"
  },
  "language_info": {
   "codemirror_mode": {
    "name": "ipython",
    "version": 3
   },
   "file_extension": ".py",
   "mimetype": "text/x-python",
   "name": "python",
   "nbconvert_exporter": "python",
   "pygments_lexer": "ipython3",
   "version": "3.6.8"
  }
 },
 "nbformat": 4,
 "nbformat_minor": 2
}
